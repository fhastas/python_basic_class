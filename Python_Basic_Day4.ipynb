{
  "nbformat": 4,
  "nbformat_minor": 0,
  "metadata": {
    "colab": {
      "name": "Python Basic Day4.ipynb",
      "provenance": [],
      "collapsed_sections": [],
      "authorship_tag": "ABX9TyO9UjcZBxIgvF0XGFGe/E5u",
      "include_colab_link": true
    },
    "kernelspec": {
      "name": "python3",
      "display_name": "Python 3"
    },
    "language_info": {
      "name": "python"
    }
  },
  "cells": [
    {
      "cell_type": "markdown",
      "metadata": {
        "id": "view-in-github",
        "colab_type": "text"
      },
      "source": [
        "<a href=\"https://colab.research.google.com/github/fhastas/python_basic_class/blob/main/Python_Basic_Day4.ipynb\" target=\"_parent\"><img src=\"https://colab.research.google.com/assets/colab-badge.svg\" alt=\"Open In Colab\"/></a>"
      ]
    },
    {
      "cell_type": "code",
      "execution_count": 3,
      "metadata": {
        "id": "vXGD0Y4ItiSI",
        "colab": {
          "base_uri": "https://localhost:8080/"
        },
        "outputId": "7e5f3d1e-2109-478e-f4e4-75bbcf13eff1"
      },
      "outputs": [
        {
          "output_type": "stream",
          "name": "stdout",
          "text": [
            "정수를 입력하세요>>>123\n",
            "<class 'str'>\n"
          ]
        }
      ],
      "source": [
        "# input() 함수를 사용할 때의 주의점\n",
        "# input()은 모든 입력을 str(문자열)로 저장한다는 점이다.\n",
        "# 따라서 숫자를 입력해도 문자로 받아드린다.\n",
        "\n",
        "n = input('정수를 입력하세요>>>')\n",
        "print(type(n))"
      ]
    },
    {
      "cell_type": "code",
      "source": [
        "n = int(input('정수를 입력하세요>>>'))    # 형변환이 필요하다. casting\n",
        "print(type(n))"
      ],
      "metadata": {
        "colab": {
          "base_uri": "https://localhost:8080/"
        },
        "id": "G85GCDXr0LrW",
        "outputId": "89b13b39-130f-4326-87ef-80ef8c817ee0"
      },
      "execution_count": 4,
      "outputs": [
        {
          "output_type": "stream",
          "name": "stdout",
          "text": [
            "정수를 입력하세요>>>123\n",
            "<class 'int'>\n"
          ]
        }
      ]
    },
    {
      "cell_type": "code",
      "source": [
        "price = 50000\n",
        "n = int(input('할부 개월 입력>>>'))\n",
        "print('매달 내는 돈은 {}입니다.'.format(price/n))"
      ],
      "metadata": {
        "colab": {
          "base_uri": "https://localhost:8080/"
        },
        "id": "No22kGn40XiV",
        "outputId": "af424e2f-509b-462d-a6bc-b8595452dab5"
      },
      "execution_count": 5,
      "outputs": [
        {
          "output_type": "stream",
          "name": "stdout",
          "text": [
            "할부 개월 입력>>>10\n",
            "매달 내는 돈은 5000.0입니다.\n"
          ]
        }
      ]
    },
    {
      "cell_type": "code",
      "source": [
        "n1 = float(input('첫 번째 실수를 입력하세요>>>'))\n",
        "n2 = float(input('두 번째 실수를 입력하세요>>>'))\n",
        "print(f'{n1}와 {n2}의 합은 {n1+n2}입니다.')"
      ],
      "metadata": {
        "colab": {
          "base_uri": "https://localhost:8080/"
        },
        "id": "_lxUdAOs0yP5",
        "outputId": "9ab4dc8e-f4cd-40db-c415-a5e0fb6b2f08"
      },
      "execution_count": 10,
      "outputs": [
        {
          "output_type": "stream",
          "name": "stdout",
          "text": [
            "첫 번째 실수를 입력하세요>>>5\n",
            "두 번째 실수를 입력하세요>>>6\n",
            "5.0와 6.0의 합은 11.0입니다.\n"
          ]
        }
      ]
    },
    {
      "cell_type": "code",
      "source": [
        "# M = {'1월':'31일', '2월':'28일', '3월':'31일', '4월':'30일', '5월':'31일', '6월':'30일', '7월':'31일', '8월':'30일', '9월':'31일', '10일':'30일', '11월':'31일', '12월':'30일'}\n",
        "M = [31,28,31,30,31,30,31,30,31,30,31,30]\n",
        "\n",
        "Q = int(input('1~12 사이의 월을 입력하세요>>>'))\n",
        "print(f'{Q}월은 {M[Q-1]}일까지 있습니다.')\n"
      ],
      "metadata": {
        "colab": {
          "base_uri": "https://localhost:8080/"
        },
        "id": "oYPy_cEw2e2O",
        "outputId": "362c9a0d-ed72-4b95-8e55-fe56ce9d236b"
      },
      "execution_count": 12,
      "outputs": [
        {
          "output_type": "stream",
          "name": "stdout",
          "text": [
            "1~12 사이의 월을 입력하세요>>>3\n",
            "3월은 31일까지 있습니다.\n"
          ]
        }
      ]
    },
    {
      "cell_type": "code",
      "source": [
        "english_dict = {\n",
        "    'flower':'꽃',\n",
        "    'fly':'날다',\n",
        "    'floor':'바닥'\n",
        "}\n",
        "Q = input('영어 단어를 입력하세요>>>')\n",
        "print(f'{Q}:{english_dict[Q]}')"
      ],
      "metadata": {
        "colab": {
          "base_uri": "https://localhost:8080/"
        },
        "id": "0Yj6NXKR4GC6",
        "outputId": "30155c5d-fb2b-424d-c850-000aef674bfd"
      },
      "execution_count": 14,
      "outputs": [
        {
          "output_type": "stream",
          "name": "stdout",
          "text": [
            "영어 단어를 입력하세요>>>floor\n",
            "floor:바닥\n"
          ]
        }
      ]
    },
    {
      "cell_type": "code",
      "source": [
        "# 복합 대입 연산자\n",
        "\n",
        "a = 1\n",
        "print(a)\n",
        "# a = a + 1     \n",
        "a += 1\n",
        "print(a)\n",
        "a -= 1\n",
        "print(a)"
      ],
      "metadata": {
        "colab": {
          "base_uri": "https://localhost:8080/"
        },
        "id": "u-o3IY0R5wz5",
        "outputId": "c3219630-25ba-431b-efaa-1dff99574f10"
      },
      "execution_count": 16,
      "outputs": [
        {
          "output_type": "stream",
          "name": "stdout",
          "text": [
            "1\n",
            "2\n"
          ]
        }
      ]
    },
    {
      "cell_type": "code",
      "source": [
        "a, b = 10, 20\n",
        "print('a = %d, b = %d' % (a, b))\n",
        "\n",
        "a, b = b, a\n",
        "print('a = %d, b = %d' % (a, b))"
      ],
      "metadata": {
        "colab": {
          "base_uri": "https://localhost:8080/"
        },
        "id": "IQ1Ry18o-dGj",
        "outputId": "25257850-aa7a-4320-f15d-297c2682ec95"
      },
      "execution_count": 17,
      "outputs": [
        {
          "output_type": "stream",
          "name": "stdout",
          "text": [
            "a = 10, b = 20\n",
            "a = 20, b = 10\n"
          ]
        }
      ]
    },
    {
      "cell_type": "code",
      "source": [
        "# 시퀸스 연산자 : 순서가 있는 구조 시퀸스(리스트, 튜플, 문자열, range)에서 사용된다.\n",
        "\n",
        "[1,3,5] + [2,4,6]"
      ],
      "metadata": {
        "colab": {
          "base_uri": "https://localhost:8080/"
        },
        "id": "YnwD5enUB8jB",
        "outputId": "fdc03e94-e4b7-48eb-e83c-6c55d64f8c89"
      },
      "execution_count": 18,
      "outputs": [
        {
          "output_type": "execute_result",
          "data": {
            "text/plain": [
              "[1, 3, 5, 2, 4, 6]"
            ]
          },
          "metadata": {},
          "execution_count": 18
        }
      ]
    },
    {
      "cell_type": "code",
      "source": [
        "'hello' + ' ' + 'python'"
      ],
      "metadata": {
        "colab": {
          "base_uri": "https://localhost:8080/",
          "height": 35
        },
        "id": "j8F2UJsyCSvp",
        "outputId": "2268e2c8-2820-46a7-f833-df2e000cd4ed"
      },
      "execution_count": 20,
      "outputs": [
        {
          "output_type": "execute_result",
          "data": {
            "application/vnd.google.colaboratory.intrinsic+json": {
              "type": "string"
            },
            "text/plain": [
              "'hello python'"
            ]
          },
          "metadata": {},
          "execution_count": 20
        }
      ]
    },
    {
      "cell_type": "code",
      "source": [
        "[1,3,5] * 2"
      ],
      "metadata": {
        "colab": {
          "base_uri": "https://localhost:8080/"
        },
        "id": "imlVErYHCZlJ",
        "outputId": "78783833-7fc6-4e01-c452-a27b2e15ef9b"
      },
      "execution_count": 21,
      "outputs": [
        {
          "output_type": "execute_result",
          "data": {
            "text/plain": [
              "[1, 3, 5, 1, 3, 5]"
            ]
          },
          "metadata": {},
          "execution_count": 21
        }
      ]
    },
    {
      "cell_type": "code",
      "source": [
        "'*' * 20"
      ],
      "metadata": {
        "colab": {
          "base_uri": "https://localhost:8080/",
          "height": 35
        },
        "id": "hJOniSdkCcxm",
        "outputId": "aa7bf1eb-c74b-4424-83da-3bf01f4224be"
      },
      "execution_count": 22,
      "outputs": [
        {
          "output_type": "execute_result",
          "data": {
            "application/vnd.google.colaboratory.intrinsic+json": {
              "type": "string"
            },
            "text/plain": [
              "'********************'"
            ]
          },
          "metadata": {},
          "execution_count": 22
        }
      ]
    },
    {
      "cell_type": "code",
      "source": [
        "# 멤버쉽 연산자\n",
        "5 in [1,2,3,4,5]"
      ],
      "metadata": {
        "colab": {
          "base_uri": "https://localhost:8080/"
        },
        "id": "fQVuDeRjCgEG",
        "outputId": "24c7bbcb-252a-4325-a2a7-200f225a0d87"
      },
      "execution_count": 23,
      "outputs": [
        {
          "output_type": "execute_result",
          "data": {
            "text/plain": [
              "True"
            ]
          },
          "metadata": {},
          "execution_count": 23
        }
      ]
    },
    {
      "cell_type": "code",
      "source": [
        "5 not in [1,2,3,4,5]"
      ],
      "metadata": {
        "colab": {
          "base_uri": "https://localhost:8080/"
        },
        "id": "6ZHa7fTwDKa0",
        "outputId": "1265b705-8c58-43be-cd6a-aa14d4f345ad"
      },
      "execution_count": 24,
      "outputs": [
        {
          "output_type": "execute_result",
          "data": {
            "text/plain": [
              "False"
            ]
          },
          "metadata": {},
          "execution_count": 24
        }
      ]
    },
    {
      "cell_type": "code",
      "source": [
        "'a' in 'apple'"
      ],
      "metadata": {
        "colab": {
          "base_uri": "https://localhost:8080/"
        },
        "id": "lpIVSAnYDPdC",
        "outputId": "31324d23-a176-4831-a7b7-e9b85beb9751"
      },
      "execution_count": 25,
      "outputs": [
        {
          "output_type": "execute_result",
          "data": {
            "text/plain": [
              "True"
            ]
          },
          "metadata": {},
          "execution_count": 25
        }
      ]
    },
    {
      "cell_type": "code",
      "source": [
        "'a' in {'a':'apple', 'b':'banana'}"
      ],
      "metadata": {
        "colab": {
          "base_uri": "https://localhost:8080/"
        },
        "id": "-VVnxEFPDctk",
        "outputId": "036715b9-3be6-4891-a3b9-e462ef86310a"
      },
      "execution_count": 29,
      "outputs": [
        {
          "output_type": "execute_result",
          "data": {
            "text/plain": [
              "True"
            ]
          },
          "metadata": {},
          "execution_count": 29
        }
      ]
    },
    {
      "cell_type": "code",
      "source": [
        "n = int(input('10~99 사이의 정수를 입력하세요>>>'))\n",
        "t = n//10\n",
        "o = n%10\n",
        "print(f'십의 자리: {t}')\n",
        "print(f'일의 자리: {o}')"
      ],
      "metadata": {
        "colab": {
          "base_uri": "https://localhost:8080/"
        },
        "id": "0_TKD9ZvDsFg",
        "outputId": "fcf5f349-d34a-4169-ad9f-5f4f59b2b525"
      },
      "execution_count": 37,
      "outputs": [
        {
          "output_type": "stream",
          "name": "stdout",
          "text": [
            "10~99 사이의 정수를 입력하세요>>>64\n",
            "십의 자리: 6\n",
            "일의 자리: 4\n"
          ]
        }
      ]
    },
    {
      "cell_type": "code",
      "source": [
        "n = input('10~99 사이의 정수를 입력하세요>>>')\n",
        "print(f'십의 자리: {n[0]}')\n",
        "print(f'십의 자리: {n[1]}')"
      ],
      "metadata": {
        "colab": {
          "base_uri": "https://localhost:8080/"
        },
        "id": "xsDtWgreF4PL",
        "outputId": "7c477995-7f68-4040-877c-965bf583b4c1"
      },
      "execution_count": 38,
      "outputs": [
        {
          "output_type": "stream",
          "name": "stdout",
          "text": [
            "10~99 사이의 정수를 입력하세요>>>12\n",
            "십의 자리: 1\n",
            "십의 자리: 2\n"
          ]
        }
      ]
    },
    {
      "cell_type": "code",
      "source": [
        "Qs = int(input('초을 입력하세요>>>'))\n",
        "h = Qs//3600\n",
        "m = (Qs//60) - (h * 60)\n",
        "s = Qs - ((h * 3600)+(m * 60))\n",
        "\n",
        "# Qs // 3600\n",
        "# Qs % 3600 // 60\n",
        "# Qs % 60\n",
        "\n",
        "print(f'변환 결과는 {h}시간 {m}분 {s}초입니다.') "
      ],
      "metadata": {
        "colab": {
          "base_uri": "https://localhost:8080/"
        },
        "id": "fYzAFCGvF7eP",
        "outputId": "e2b98873-5135-463f-b6cb-c02502774a7a"
      },
      "execution_count": 42,
      "outputs": [
        {
          "output_type": "stream",
          "name": "stdout",
          "text": [
            "초을 입력하세요>>>86400\n",
            "변환 결과는 24시간 0분 0초입니다.\n"
          ]
        }
      ]
    },
    {
      "cell_type": "code",
      "source": [
        "n = int(input('4자리 사원번호를 입력하세요>>>'))\n",
        "n1 = n % 10\n",
        "\n",
        "if n1 >= 5:\n",
        "  print('근무시간은 오전입니다.')\n",
        "else:\n",
        "  print('근무시간은 오후입니다.')"
      ],
      "metadata": {
        "colab": {
          "base_uri": "https://localhost:8080/"
        },
        "id": "s2FKuq8yL8EZ",
        "outputId": "04d5077b-9be0-416a-a30f-447006f36d19"
      },
      "execution_count": 45,
      "outputs": [
        {
          "output_type": "stream",
          "name": "stdout",
          "text": [
            "4자리 사원번호를 입력하세요>>>1235\n",
            "근무시간은 오전입니다.\n"
          ]
        }
      ]
    },
    {
      "cell_type": "code",
      "source": [
        "# 조건문 if\n",
        "# 조건문은 특정 조건을 만족하는지의 여부에 따라 실행되는 코드가 달라져야 할 때 사용\n",
        "\n",
        "a = 0\n",
        "\n",
        "if a > 0:\n",
        "  print('양수')\n",
        "else:\n",
        "  print('음수')"
      ],
      "metadata": {
        "id": "EGAQeNtIPaO3"
      },
      "execution_count": null,
      "outputs": []
    }
  ]
}