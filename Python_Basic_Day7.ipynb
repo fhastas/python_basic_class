{
  "nbformat": 4,
  "nbformat_minor": 0,
  "metadata": {
    "colab": {
      "name": "Python Basic Day7.ipynb",
      "provenance": [],
      "authorship_tag": "ABX9TyN+jTzuZs5fGbaK2OQshR/T",
      "include_colab_link": true
    },
    "kernelspec": {
      "name": "python3",
      "display_name": "Python 3"
    },
    "language_info": {
      "name": "python"
    }
  },
  "cells": [
    {
      "cell_type": "markdown",
      "metadata": {
        "id": "view-in-github",
        "colab_type": "text"
      },
      "source": [
        "<a href=\"https://colab.research.google.com/github/fhastas/python_basic_class/blob/main/Python_Basic_Day7.ipynb\" target=\"_parent\"><img src=\"https://colab.research.google.com/assets/colab-badge.svg\" alt=\"Open In Colab\"/></a>"
      ]
    },
    {
      "cell_type": "code",
      "execution_count": 1,
      "metadata": {
        "colab": {
          "base_uri": "https://localhost:8080/",
          "height": 35
        },
        "id": "2tzivdNZFlsT",
        "outputId": "fdede3a1-c5bc-4265-808c-04769f2a0c57"
      },
      "outputs": [
        {
          "output_type": "execute_result",
          "data": {
            "application/vnd.google.colaboratory.intrinsic+json": {
              "type": "string"
            },
            "text/plain": [
              "'0'"
            ]
          },
          "metadata": {},
          "execution_count": 1
        }
      ],
      "source": [
        "chr(48)"
      ]
    },
    {
      "cell_type": "code",
      "source": [
        "chr(65)"
      ],
      "metadata": {
        "colab": {
          "base_uri": "https://localhost:8080/",
          "height": 35
        },
        "id": "ttk9An9CG-rl",
        "outputId": "cb926d44-138e-4dfa-efd9-726cca0ae3aa"
      },
      "execution_count": 3,
      "outputs": [
        {
          "output_type": "execute_result",
          "data": {
            "application/vnd.google.colaboratory.intrinsic+json": {
              "type": "string"
            },
            "text/plain": [
              "'A'"
            ]
          },
          "metadata": {},
          "execution_count": 3
        }
      ]
    },
    {
      "cell_type": "code",
      "source": [
        "ord('A')"
      ],
      "metadata": {
        "colab": {
          "base_uri": "https://localhost:8080/"
        },
        "id": "mEzNHc55HJN6",
        "outputId": "bd0e05f3-055b-4809-de85-167c5f239746"
      },
      "execution_count": 5,
      "outputs": [
        {
          "output_type": "execute_result",
          "data": {
            "text/plain": [
              "65"
            ]
          },
          "metadata": {},
          "execution_count": 5
        }
      ]
    },
    {
      "cell_type": "code",
      "source": [
        "for item in enumerate(['가위', '바위', '보']):\n",
        "  print(item)"
      ],
      "metadata": {
        "colab": {
          "base_uri": "https://localhost:8080/"
        },
        "id": "f6mffeweHmde",
        "outputId": "0ef022a1-b30e-4c48-84e9-a2d5b7163100"
      },
      "execution_count": 6,
      "outputs": [
        {
          "output_type": "stream",
          "name": "stdout",
          "text": [
            "(0, '가위')\n",
            "(1, '바위')\n",
            "(2, '보')\n"
          ]
        }
      ]
    },
    {
      "cell_type": "code",
      "source": [
        "for idx, item in enumerate(['가위', '바위', '보']):\n",
        "  print(idx+1, item)"
      ],
      "metadata": {
        "colab": {
          "base_uri": "https://localhost:8080/"
        },
        "id": "aGLgaC4AIiKH",
        "outputId": "9305e071-e52e-46e4-d363-5d3d7b86822b"
      },
      "execution_count": 7,
      "outputs": [
        {
          "output_type": "stream",
          "name": "stdout",
          "text": [
            "1 가위\n",
            "2 바위\n",
            "3 보\n"
          ]
        }
      ]
    },
    {
      "cell_type": "code",
      "source": [
        "# Method\n",
        "\n",
        "name = input('이름을 입력하세요')\n",
        "\n",
        "list = []\n",
        "\n",
        "list.append(name)\n",
        "\n",
        "print(list)"
      ],
      "metadata": {
        "colab": {
          "base_uri": "https://localhost:8080/"
        },
        "id": "6pghxE4fItez",
        "outputId": "1f9958fe-53f0-4ff5-b619-4e84346e1569"
      },
      "execution_count": 9,
      "outputs": [
        {
          "output_type": "stream",
          "name": "stdout",
          "text": [
            "이름을 입력하세요fhastas\n",
            "['fhastas']\n"
          ]
        }
      ]
    },
    {
      "cell_type": "code",
      "source": [
        "s = '내가 그린 기린 그림은 목 긴 기ㅣ린 그림이고, 네가 그린 기린 그림은 목 짧은 기린 그림이다.'\n",
        "s.count('기린')"
      ],
      "metadata": {
        "colab": {
          "base_uri": "https://localhost:8080/"
        },
        "id": "a0rD-soCJ-7J",
        "outputId": "78e9f04d-2922-4f57-c8c5-40b2c3a90083"
      },
      "execution_count": 10,
      "outputs": [
        {
          "output_type": "execute_result",
          "data": {
            "text/plain": [
              "3"
            ]
          },
          "metadata": {},
          "execution_count": 10
        }
      ]
    },
    {
      "cell_type": "code",
      "source": [
        "s = 'best of best'\n",
        "s.count('best', 5)"
      ],
      "metadata": {
        "colab": {
          "base_uri": "https://localhost:8080/"
        },
        "id": "qprA-2QtLAq0",
        "outputId": "e9bb26eb-1bf9-4ff8-c71b-8ee9e642b283"
      },
      "execution_count": 12,
      "outputs": [
        {
          "output_type": "execute_result",
          "data": {
            "text/plain": [
              "1"
            ]
          },
          "metadata": {},
          "execution_count": 12
        }
      ]
    },
    {
      "cell_type": "code",
      "source": [
        "s = 'Life is to short'\n",
        "s.split()"
      ],
      "metadata": {
        "colab": {
          "base_uri": "https://localhost:8080/"
        },
        "id": "LCxuruFKLHht",
        "outputId": "be8293c7-9e7e-48aa-fbe6-72d384392c79"
      },
      "execution_count": 14,
      "outputs": [
        {
          "output_type": "execute_result",
          "data": {
            "text/plain": [
              "['Life', 'is', 'to', 'short']"
            ]
          },
          "metadata": {},
          "execution_count": 14
        }
      ]
    },
    {
      "cell_type": "code",
      "source": [
        "s = '010-1234-5678'\n",
        "s.split('-')"
      ],
      "metadata": {
        "colab": {
          "base_uri": "https://localhost:8080/"
        },
        "id": "PDIzwxg3L03E",
        "outputId": "ad8af0f8-901b-48c0-cb48-2aff1c5a9ff5"
      },
      "execution_count": 15,
      "outputs": [
        {
          "output_type": "execute_result",
          "data": {
            "text/plain": [
              "['010', '1234', '5678']"
            ]
          },
          "metadata": {},
          "execution_count": 15
        }
      ]
    },
    {
      "cell_type": "code",
      "source": [
        "s = '제임스, 25, 남, 서울'\n",
        "s.split(',')"
      ],
      "metadata": {
        "colab": {
          "base_uri": "https://localhost:8080/"
        },
        "id": "cA4-_FMRL5cb",
        "outputId": "b1d6a83e-3f4d-485a-c8fa-8c2b063a6df1"
      },
      "execution_count": 16,
      "outputs": [
        {
          "output_type": "execute_result",
          "data": {
            "text/plain": [
              "['제임스', ' 25', ' 남', ' 서울']"
            ]
          },
          "metadata": {},
          "execution_count": 16
        }
      ]
    },
    {
      "cell_type": "code",
      "source": [
        "# 사용자 정의 함수\n",
        "\n",
        "# 입력 input\n",
        "# 출력 output\n",
        "\n",
        "# 1. 입력이 있고 출력도 있는 함수\n",
        "# 2. 입력이 있고 출력이 없는 함수\n",
        "# 3. 입력이 없고 출력이 있는 함수\n",
        "# 4. 입력도 없고 출력도 없는 함수\n",
        "\n",
        "# def 함수이름(매개변수):\n",
        "#   본문\n",
        "#   return 반환값"
      ],
      "metadata": {
        "id": "qjP4iZHUMAL-"
      },
      "execution_count": null,
      "outputs": []
    },
    {
      "cell_type": "code",
      "source": [
        "# 입력도 없고 출력도 없는 함수\n",
        "\n",
        "def welcome():\n",
        "  print('Hello Python')\n",
        "  print('Nice to meet you')\n",
        "\n",
        "welcome()"
      ],
      "metadata": {
        "colab": {
          "base_uri": "https://localhost:8080/"
        },
        "id": "c1E0Ww3APuSR",
        "outputId": "62e301d6-270d-4549-fc4d-5c489baae150"
      },
      "execution_count": 18,
      "outputs": [
        {
          "output_type": "stream",
          "name": "stdout",
          "text": [
            "Hello Python\n",
            "Nice to meet you\n"
          ]
        }
      ]
    },
    {
      "cell_type": "code",
      "source": [
        "# 입력이 있고 출력이 없는 함수\n",
        "\n",
        "def introduce(name, age):\n",
        "  print(f'내 이름은 {name}이고, 나이는 {age}입니다.')\n",
        "\n",
        "introduce('James', 25)\n",
        "introduce('Andy', 21)"
      ],
      "metadata": {
        "colab": {
          "base_uri": "https://localhost:8080/"
        },
        "id": "hlZYfMuvQFBM",
        "outputId": "66a8a834-dac3-4923-dbe8-604f286b6acf"
      },
      "execution_count": 21,
      "outputs": [
        {
          "output_type": "stream",
          "name": "stdout",
          "text": [
            "내 이름은 James이고, 나이는 25입니다.\n",
            "내 이름은 Andy이고, 나이는 21입니다.\n"
          ]
        }
      ]
    },
    {
      "cell_type": "code",
      "source": [
        "def show(*args):\n",
        "  for item in args:\n",
        "    print(item)\n",
        "\n",
        "show('python')\n",
        "show('happy', 'birthday')"
      ],
      "metadata": {
        "colab": {
          "base_uri": "https://localhost:8080/"
        },
        "id": "VNnU5LhSTxTv",
        "outputId": "41006fae-e24b-4d2a-eacf-24d88ec97d88"
      },
      "execution_count": 22,
      "outputs": [
        {
          "output_type": "stream",
          "name": "stdout",
          "text": [
            "python\n",
            "happy\n",
            "birthday\n"
          ]
        }
      ]
    },
    {
      "cell_type": "code",
      "source": [
        "def addsum(*args):\n",
        "  sum = 0\n",
        "  for arg in args:\n",
        "    sum += arg\n",
        "  print(sum)\n",
        "\n",
        "def addsum2(a, b):\n",
        "  print(a + b)\n",
        "\n",
        "def addsum3(a, b, c):\n",
        "  print(a + b + c)\n",
        "\n",
        "addsum2(1, 2)\n",
        "addsum3(1, 2, 3)\n",
        "\n",
        "addsum(1,2,3,4,5,6,7,8,9)"
      ],
      "metadata": {
        "colab": {
          "base_uri": "https://localhost:8080/"
        },
        "id": "LXeEKvzMUoZx",
        "outputId": "70c5c09e-3716-462b-d198-9e3a9984fa42"
      },
      "execution_count": 26,
      "outputs": [
        {
          "output_type": "stream",
          "name": "stdout",
          "text": [
            "3\n",
            "6\n",
            "45\n"
          ]
        }
      ]
    },
    {
      "cell_type": "code",
      "source": [
        "def greet(message = '안녕하세요'):\n",
        "  print(message)\n",
        "\n",
        "greet('반갑습니다.')\n",
        "greet()"
      ],
      "metadata": {
        "colab": {
          "base_uri": "https://localhost:8080/"
        },
        "id": "33OqTJPvVdgq",
        "outputId": "1bcc9128-ac0b-4968-b57c-80e7328a9e04"
      },
      "execution_count": 27,
      "outputs": [
        {
          "output_type": "stream",
          "name": "stdout",
          "text": [
            "반갑습니다.\n",
            "안녕하세요\n"
          ]
        }
      ]
    },
    {
      "cell_type": "code",
      "source": [
        "# 디폴트 매개변수는 마지막에 위치시킨다\n",
        "\n",
        "def greet(name, message = '안녕하세요'):\n",
        "  print(f'{name}님 {message}')\n",
        "\n",
        "greet('김철수')"
      ],
      "metadata": {
        "colab": {
          "base_uri": "https://localhost:8080/"
        },
        "id": "kDBx6mTSWnum",
        "outputId": "d7ecf118-18ca-463c-c7e9-e505be09c313"
      },
      "execution_count": 29,
      "outputs": [
        {
          "output_type": "stream",
          "name": "stdout",
          "text": [
            "김철수님 안녕하세요\n"
          ]
        }
      ]
    },
    {
      "cell_type": "code",
      "source": [
        "# 입력이 없고 출력이 있는 함수\n",
        "\n",
        "def address():\n",
        "  str = '우편번호 12345\\n'\n",
        "  str += '서울시 영등포구 여의도동'\n",
        "  \n",
        "  return str\n",
        "\n",
        "print(address())"
      ],
      "metadata": {
        "colab": {
          "base_uri": "https://localhost:8080/"
        },
        "id": "Nv7rM08pW16i",
        "outputId": "20b56e41-a71c-4abc-f3b6-25a2e95ced26"
      },
      "execution_count": 31,
      "outputs": [
        {
          "output_type": "stream",
          "name": "stdout",
          "text": [
            "우편번호 12345\n",
            "서울시 영등포구 여의도동\n"
          ]
        }
      ]
    },
    {
      "cell_type": "code",
      "source": [
        "def calculater(*args):\n",
        "  return sum(args), sum(args)/len(args), max(args), min(args)\n",
        "\n",
        "a, b, c, d = calculater(1, 2, 3, 4, 5)\n",
        "print('합계:', a)\n",
        "print('평균:', b)\n",
        "print('최댓값:', c)\n",
        "print('최솟값:',d)"
      ],
      "metadata": {
        "colab": {
          "base_uri": "https://localhost:8080/"
        },
        "id": "8mV1EnvEY2Gm",
        "outputId": "5fdf60d7-1e69-43d2-b299-8759a158457e"
      },
      "execution_count": 37,
      "outputs": [
        {
          "output_type": "stream",
          "name": "stdout",
          "text": [
            "합계: 15\n",
            "평균: 3.0\n",
            "최댓값: 5\n",
            "최솟값: 1\n"
          ]
        }
      ]
    },
    {
      "cell_type": "code",
      "source": [
        "def charge(energe):\n",
        "  if energe < 0:\n",
        "    print('0보다 작은 에너지는 충전할 수 없습니다.')\n",
        "    return\n",
        "  print('에너지가 충전되었습니다.')\n",
        "\n",
        "charge(1)\n",
        "charge(-1)"
      ],
      "metadata": {
        "colab": {
          "base_uri": "https://localhost:8080/"
        },
        "id": "pCargEsaabRU",
        "outputId": "c959d784-1fa9-44f7-9df5-80944066f9fa"
      },
      "execution_count": 38,
      "outputs": [
        {
          "output_type": "stream",
          "name": "stdout",
          "text": [
            "에너지가 충전되었습니다.\n",
            "0보다 작은 에너지는 충전할 수 없습니다.\n"
          ]
        }
      ]
    },
    {
      "cell_type": "code",
      "source": [
        "# local variable & global variable\n",
        "\n",
        "def f():\n",
        "  a = 10\n",
        "  print(f'내부: {a}')\n",
        "\n",
        "f()\n",
        "\n",
        "print(f'외부: {a}')"
      ],
      "metadata": {
        "colab": {
          "base_uri": "https://localhost:8080/"
        },
        "id": "bSlh_RQtavUB",
        "outputId": "a1c8d011-1a85-4855-e952-4fb6da4599a4"
      },
      "execution_count": 42,
      "outputs": [
        {
          "output_type": "stream",
          "name": "stdout",
          "text": [
            "내부: 10\n",
            "외부: 15\n"
          ]
        }
      ]
    },
    {
      "cell_type": "code",
      "source": [
        "# global variable\n",
        "\n",
        "b = 10\n",
        "\n",
        "def f():\n",
        "  print(f'내부: {b}')\n",
        "\n",
        "f()\n",
        "\n",
        "print(f'외부: {b}')"
      ],
      "metadata": {
        "colab": {
          "base_uri": "https://localhost:8080/"
        },
        "id": "5cwggPvYc5Z0",
        "outputId": "914576bb-6ed8-4e2b-befb-417f342ab4bb"
      },
      "execution_count": 45,
      "outputs": [
        {
          "output_type": "stream",
          "name": "stdout",
          "text": [
            "내부: 10\n",
            "외부: 10\n"
          ]
        }
      ]
    },
    {
      "cell_type": "code",
      "source": [
        "a = 0\n",
        "\n",
        "def f():\n",
        "  global a\n",
        "  a = 10\n",
        "  print(a)\n",
        "\n",
        "f()\n",
        "\n",
        "print(a)"
      ],
      "metadata": {
        "colab": {
          "base_uri": "https://localhost:8080/"
        },
        "id": "IBtoPXK5dwXn",
        "outputId": "a197576b-8c2b-4885-a452-fdb15b0320ef"
      },
      "execution_count": 46,
      "outputs": [
        {
          "output_type": "stream",
          "name": "stdout",
          "text": [
            "10\n",
            "10\n"
          ]
        }
      ]
    },
    {
      "cell_type": "code",
      "source": [
        "def vending_machine(money):\n",
        "  i = 0\n",
        "  price = 700\n",
        "  while True:\n",
        "    print(f'음료수 = {i}개, 잔돈 = {money}원')\n",
        "    \n",
        "    if money >= price:\n",
        "      money -= price\n",
        "    else:\n",
        "      return\n",
        "    i += 1\n",
        "\n",
        "vending_machine(3000)"
      ],
      "metadata": {
        "colab": {
          "base_uri": "https://localhost:8080/"
        },
        "id": "Ch5BXGrygYS3",
        "outputId": "33fe08c7-e195-4e15-b69f-a78b9d4571da"
      },
      "execution_count": 48,
      "outputs": [
        {
          "output_type": "stream",
          "name": "stdout",
          "text": [
            "음료수 = 0개, 잔돈 = 3000원\n",
            "음료수 = 1개, 잔돈 = 2300원\n",
            "음료수 = 2개, 잔돈 = 1600원\n",
            "음료수 = 3개, 잔돈 = 900원\n",
            "음료수 = 4개, 잔돈 = 200원\n"
          ]
        }
      ]
    },
    {
      "cell_type": "code",
      "source": [
        "def get_average(marks):\n",
        "  sum = 0\n",
        "  for i in marks:\n",
        "    sum += marks[i]\n",
        "  return sum / len(marks)\n",
        "\n",
        "marks = {'국어':90, '영어':80, '수학':85}\n",
        "average = get_average(marks)\n",
        "print(f'평균은 {average}점 입니다.')"
      ],
      "metadata": {
        "colab": {
          "base_uri": "https://localhost:8080/"
        },
        "id": "Gh7_X3s_giyi",
        "outputId": "0b0dc40d-d1e2-4d99-aef2-05a13f493f74"
      },
      "execution_count": 55,
      "outputs": [
        {
          "output_type": "stream",
          "name": "stdout",
          "text": [
            "평균은 85.0점 입니다.\n"
          ]
        }
      ]
    },
    {
      "cell_type": "code",
      "source": [
        "total = 0\n",
        "\n",
        "def gift(dic, who, money):\n",
        "  global total\n",
        "\n",
        "  dic[who] = money\n",
        "  total += money\n",
        "  return\n",
        "\n",
        "wedding = {}\n",
        "gift(wedding, '영희', 5)\n",
        "gift(wedding, '철수', 3)\n",
        "gift(wedding, '이모', 10)\n",
        "print(f'축의금 명단: {wedding}')\n",
        "print(f'전체 축의금: {total}')"
      ],
      "metadata": {
        "colab": {
          "base_uri": "https://localhost:8080/"
        },
        "id": "Njex3IuQjSro",
        "outputId": "b0c485ca-38a6-4045-8709-8a97b4c447fc"
      },
      "execution_count": 60,
      "outputs": [
        {
          "output_type": "stream",
          "name": "stdout",
          "text": [
            "축의금 명단: {'영희': 5, '철수': 3, '이모': 10}\n",
            "전체 축의금: 18\n"
          ]
        }
      ]
    },
    {
      "cell_type": "code",
      "source": [
        "# 모듈과 임포트\n",
        "\n",
        "# 모듈: 재사용이 가능하도록 변수, 함수, 클래스 등을 모아놓은 .py"
      ],
      "metadata": {
        "id": "4OhaUdYsoojc"
      },
      "execution_count": null,
      "outputs": []
    }
  ]
}