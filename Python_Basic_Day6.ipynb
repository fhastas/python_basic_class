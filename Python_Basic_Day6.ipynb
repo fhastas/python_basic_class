{
  "nbformat": 4,
  "nbformat_minor": 0,
  "metadata": {
    "colab": {
      "name": "Python Basic Day6.ipynb",
      "provenance": [],
      "authorship_tag": "ABX9TyOtPUoEu78MCZonMq3lyoYL",
      "include_colab_link": true
    },
    "kernelspec": {
      "name": "python3",
      "display_name": "Python 3"
    },
    "language_info": {
      "name": "python"
    }
  },
  "cells": [
    {
      "cell_type": "markdown",
      "metadata": {
        "id": "view-in-github",
        "colab_type": "text"
      },
      "source": [
        "<a href=\"https://colab.research.google.com/github/fhastas/python_basic_class/blob/main/Python_Basic_Day6.ipynb\" target=\"_parent\"><img src=\"https://colab.research.google.com/assets/colab-badge.svg\" alt=\"Open In Colab\"/></a>"
      ]
    },
    {
      "cell_type": "code",
      "execution_count": null,
      "metadata": {
        "colab": {
          "base_uri": "https://localhost:8080/"
        },
        "id": "ZvRv3xvEx7wu",
        "outputId": "57431dd5-b3d6-461a-aeb7-52001cbb671d"
      },
      "outputs": [
        {
          "output_type": "stream",
          "name": "stdout",
          "text": [
            "1\n",
            "2\n",
            "3\n"
          ]
        }
      ],
      "source": [
        "# for 반복문, 주로 반복 횟수를 명확히 알고 있을 때 사용\n",
        "\n",
        "# for 변수 in 반복객체:\n",
        "#   반복실행\n",
        "\n",
        "for i in [1,2,3]:\n",
        "  print(i)"
      ]
    },
    {
      "cell_type": "code",
      "source": [
        "for i in 'hello':\n",
        "  print(i)"
      ],
      "metadata": {
        "colab": {
          "base_uri": "https://localhost:8080/"
        },
        "id": "Cl-HfJe_y338",
        "outputId": "49c38a9a-99c7-4023-cf04-ed9b506a3c60"
      },
      "execution_count": null,
      "outputs": [
        {
          "output_type": "stream",
          "name": "stdout",
          "text": [
            "h\n",
            "e\n",
            "l\n",
            "l\n",
            "o\n"
          ]
        }
      ]
    },
    {
      "cell_type": "code",
      "source": [
        "for item in ['가위', '바위', '보']:\n",
        "  print(item)"
      ],
      "metadata": {
        "colab": {
          "base_uri": "https://localhost:8080/"
        },
        "id": "AIl4X6VuzXDl",
        "outputId": "05ecefb9-c7d5-42c3-dc4f-50d62f7dbfd3"
      },
      "execution_count": null,
      "outputs": [
        {
          "output_type": "stream",
          "name": "stdout",
          "text": [
            "가위\n",
            "바위\n",
            "보\n"
          ]
        }
      ]
    },
    {
      "cell_type": "code",
      "source": [
        "# 리스트 내포 : for 문을 이용해서 리스트를 간단히 생성한다.\n",
        "\n",
        "[n*2    for n in [1,2,3]]"
      ],
      "metadata": {
        "colab": {
          "base_uri": "https://localhost:8080/"
        },
        "id": "wcQjkrb8z3bV",
        "outputId": "dec82487-da84-44bd-992f-334bafff993f"
      },
      "execution_count": null,
      "outputs": [
        {
          "output_type": "execute_result",
          "data": {
            "text/plain": [
              "[2, 4, 6]"
            ]
          },
          "metadata": {},
          "execution_count": 5
        }
      ]
    },
    {
      "cell_type": "code",
      "source": [
        "[n*2    for n in [1,2,3,4,5]    if n%2 ==1]"
      ],
      "metadata": {
        "colab": {
          "base_uri": "https://localhost:8080/"
        },
        "id": "Lsr_Pkbh0aSQ",
        "outputId": "a1fa2a57-d9fd-43b1-8f41-100f70736508"
      },
      "execution_count": null,
      "outputs": [
        {
          "output_type": "execute_result",
          "data": {
            "text/plain": [
              "[2, 6, 10]"
            ]
          },
          "metadata": {},
          "execution_count": 6
        }
      ]
    },
    {
      "cell_type": "code",
      "source": [
        "four_seasons = {'Spring', 'Summer', 'Autumn', 'Winter'}\n",
        "for season in four_seasons:\n",
        "  print(season)"
      ],
      "metadata": {
        "colab": {
          "base_uri": "https://localhost:8080/"
        },
        "id": "vtbJA1BH1ZUL",
        "outputId": "ecae5d5f-3411-4cac-cc90-8d0438afca3a"
      },
      "execution_count": null,
      "outputs": [
        {
          "output_type": "stream",
          "name": "stdout",
          "text": [
            "Autumn\n",
            "Spring\n",
            "Summer\n",
            "Winter\n"
          ]
        }
      ]
    },
    {
      "cell_type": "code",
      "source": [
        "# range()\n",
        "# 정수 범위를 만들어 낼 때 유요한 아주 많이 for문과 사용되는 함수\n",
        "\n",
        "# range(start, stop, step)  # start(0부터), step(1씩 증가) 은 생략 가능\n",
        "\n",
        "print(list(range(5))) # start 생략, step 생략 0, 1, 2, 3, 4   0부터 5미만\n",
        "print(list(range(1, 11))) # step만 생략 1부터 11미만"
      ],
      "metadata": {
        "colab": {
          "base_uri": "https://localhost:8080/"
        },
        "id": "-dEq7x8o2Pbf",
        "outputId": "793af0cb-b4d4-4809-9634-947dc2303557"
      },
      "execution_count": null,
      "outputs": [
        {
          "output_type": "stream",
          "name": "stdout",
          "text": [
            "[0, 1, 2, 3, 4]\n",
            "[1, 2, 3, 4, 5, 6, 7, 8, 9, 10]\n"
          ]
        }
      ]
    },
    {
      "cell_type": "code",
      "source": [
        "for i in range(5):\n",
        "  print(i)"
      ],
      "metadata": {
        "colab": {
          "base_uri": "https://localhost:8080/"
        },
        "id": "aSNfMyob2oyQ",
        "outputId": "ed59f772-6d62-4716-ade7-8318fd95b53c"
      },
      "execution_count": null,
      "outputs": [
        {
          "output_type": "stream",
          "name": "stdout",
          "text": [
            "0\n",
            "1\n",
            "2\n",
            "3\n",
            "4\n"
          ]
        }
      ]
    },
    {
      "cell_type": "code",
      "source": [
        "for i in range(1, 11):\n",
        "  print('Hi')"
      ],
      "metadata": {
        "colab": {
          "base_uri": "https://localhost:8080/"
        },
        "id": "SuE1TV1C3jVm",
        "outputId": "60ff89ce-a0ac-49d4-c679-fcbd62a9483d"
      },
      "execution_count": null,
      "outputs": [
        {
          "output_type": "stream",
          "name": "stdout",
          "text": [
            "Hi\n",
            "Hi\n",
            "Hi\n",
            "Hi\n",
            "Hi\n",
            "Hi\n",
            "Hi\n",
            "Hi\n",
            "Hi\n",
            "Hi\n"
          ]
        }
      ]
    },
    {
      "cell_type": "code",
      "source": [
        "for item in {'가위', '바위', '보'}:\n",
        "  print(item)"
      ],
      "metadata": {
        "colab": {
          "base_uri": "https://localhost:8080/"
        },
        "id": "UlITMNHI3pG9",
        "outputId": "9dd2548a-63da-4af6-8129-79c408a97cb2"
      },
      "execution_count": null,
      "outputs": [
        {
          "output_type": "stream",
          "name": "stdout",
          "text": [
            "보\n",
            "바위\n",
            "가위\n"
          ]
        }
      ]
    },
    {
      "cell_type": "code",
      "source": [
        "person = {\n",
        "    'name':'에밀리',\n",
        "    'age':20\n",
        "}\n",
        "\n",
        "for item in person:\n",
        "  print(item, person[item])"
      ],
      "metadata": {
        "colab": {
          "base_uri": "https://localhost:8080/"
        },
        "id": "AJiRQScs4qDG",
        "outputId": "3f904646-4b69-405d-e709-8d8a7e9f9b19"
      },
      "execution_count": null,
      "outputs": [
        {
          "output_type": "stream",
          "name": "stdout",
          "text": [
            "name 에밀리\n",
            "age 20\n"
          ]
        }
      ]
    },
    {
      "cell_type": "code",
      "source": [
        "for n in range(5, 0, -1):\n",
        "  print(n)"
      ],
      "metadata": {
        "colab": {
          "base_uri": "https://localhost:8080/"
        },
        "id": "UTKXRSMF5N60",
        "outputId": "87bf0a41-90c2-4eb7-9bff-5f05f318b5e7"
      },
      "execution_count": null,
      "outputs": [
        {
          "output_type": "stream",
          "name": "stdout",
          "text": [
            "5\n",
            "4\n",
            "3\n",
            "2\n",
            "1\n"
          ]
        }
      ]
    },
    {
      "cell_type": "code",
      "source": [
        "i = int(input('임의의 양수를 입력하세요>>>'))\n",
        "sum = 0\n",
        "\n",
        "for n in range(0, i+1):\n",
        "  sum += n\n",
        "\n",
        "print(f'1부터 {i}사이 모든 정수의 합계는 {sum}입니다.')"
      ],
      "metadata": {
        "colab": {
          "base_uri": "https://localhost:8080/"
        },
        "id": "XtslPoP85j8J",
        "outputId": "866b841d-7263-4ef6-9499-24d641622f92"
      },
      "execution_count": null,
      "outputs": [
        {
          "output_type": "stream",
          "name": "stdout",
          "text": [
            "임의의 양수를 입력하세요>>>5\n",
            "1부터 5사이 모든 정수의 합계는 15입니다.\n"
          ]
        }
      ]
    },
    {
      "cell_type": "code",
      "source": [
        "i = int(input('몇 개의 과일을 보관할까요? >>>'))\n",
        "basket = []\n",
        "\n",
        "for n in range(1, i+1):\n",
        "  basket.append(input(f'{n}번째 과일을 입력하세요>>>'))\n",
        "\n",
        "print(f'입력받은 과일들은{basket}입니다.')"
      ],
      "metadata": {
        "colab": {
          "base_uri": "https://localhost:8080/"
        },
        "id": "o0xKKzOF6pzX",
        "outputId": "a91b153e-1f58-47d7-d080-dbbcf7c0c743"
      },
      "execution_count": null,
      "outputs": [
        {
          "output_type": "stream",
          "name": "stdout",
          "text": [
            "몇 개의 과일을 보관할까요? >>>5\n",
            "1번째 과일을 입력하세요>>>사과\n",
            "2번째 과일을 입력하세요>>>바나나\n",
            "3번째 과일을 입력하세요>>>체리\n",
            "4번째 과일을 입력하세요>>>오렌지\n",
            "5번째 과일을 입력하세요>>>망고\n",
            "입력받은 과일들은['사과', '바나나', '체리', '오렌지', '망고']입니다.\n"
          ]
        }
      ]
    },
    {
      "cell_type": "code",
      "source": [
        "exam = [99, 78, 100, 91, 81, 85, 54, 100, 71, 50]\n",
        "score = []\n",
        "for i in exam:\n",
        "  if i >= 95:\n",
        "    score.append(100)\n",
        "  else:\n",
        "    score.append(i+5)\n",
        "    \n",
        "print(score)"
      ],
      "metadata": {
        "colab": {
          "base_uri": "https://localhost:8080/"
        },
        "id": "0l2p0SxN702r",
        "outputId": "df148959-161c-4e42-c874-c4318be2756c"
      },
      "execution_count": null,
      "outputs": [
        {
          "output_type": "stream",
          "name": "stdout",
          "text": [
            "[100, 83, 100, 96, 86, 90, 59, 100, 76, 55]\n"
          ]
        }
      ]
    },
    {
      "cell_type": "code",
      "source": [
        "# break\n",
        "\n",
        "# while 문이나 for 문에서 반복을 강제로 종료시킬 때 사용\n",
        "\n",
        "n = 1\n",
        "while n<=10:\n",
        "  print(n)\n",
        "  n += 1"
      ],
      "metadata": {
        "colab": {
          "base_uri": "https://localhost:8080/"
        },
        "id": "V-Hw2SvbBp8w",
        "outputId": "3e57de26-af9f-452f-9e8a-af34057e4cf2"
      },
      "execution_count": null,
      "outputs": [
        {
          "output_type": "stream",
          "name": "stdout",
          "text": [
            "1\n",
            "2\n",
            "3\n",
            "4\n",
            "5\n",
            "6\n",
            "7\n",
            "8\n",
            "9\n",
            "10\n"
          ]
        }
      ]
    },
    {
      "cell_type": "code",
      "source": [
        "n = 1\n",
        "while True:\n",
        "  print(n)\n",
        "  if n == 10:\n",
        "    break\n",
        "  n += 1"
      ],
      "metadata": {
        "colab": {
          "base_uri": "https://localhost:8080/"
        },
        "id": "vByaXRoWFBiG",
        "outputId": "3df7e004-a097-41fc-cb1f-dd00d53e0fc3"
      },
      "execution_count": null,
      "outputs": [
        {
          "output_type": "stream",
          "name": "stdout",
          "text": [
            "1\n",
            "2\n",
            "3\n",
            "4\n",
            "5\n",
            "6\n",
            "7\n",
            "8\n",
            "9\n",
            "10\n"
          ]
        }
      ]
    },
    {
      "cell_type": "code",
      "source": [
        "# continue\n",
        "\n",
        "# 반복 도중에 continue를 만나면 더 이상 아래로 내려가지 않고\n",
        "# 다시 반복문으로 진입한다.\n",
        "\n",
        "total = 0\n",
        "for a in range(1,101):\n",
        "  if a % 3 == 0:    # 3의 배수 찾기\n",
        "    continue        # 3의 배수는 제외\n",
        "  total += a\n",
        "print(total)"
      ],
      "metadata": {
        "colab": {
          "base_uri": "https://localhost:8080/"
        },
        "id": "410khELVFuXt",
        "outputId": "bdc4878a-3e5b-4e00-fd66-98e158fa3e97"
      },
      "execution_count": null,
      "outputs": [
        {
          "output_type": "stream",
          "name": "stdout",
          "text": [
            "3367\n"
          ]
        }
      ]
    },
    {
      "cell_type": "code",
      "source": [
        "money = 10000\n",
        "\n",
        "while True:\n",
        "  print(f'현재 {money}원이 있습니다')\n",
        "\n",
        "  if money <= 0:\n",
        "    break\n",
        "  else:\n",
        "    use = int(input('사용할 금액 입력>>>'))\n",
        "    if use < 0:\n",
        "      print('0 이하의 금액은 사용할 수 없습니다.')\n",
        "      use = 0\n",
        "      continue\n",
        "    elif money < use:\n",
        "      print(f'{use - money}원이 부족합니다')\n",
        "      continue\n",
        "    money -= use"
      ],
      "metadata": {
        "colab": {
          "base_uri": "https://localhost:8080/"
        },
        "id": "pIFiVhkyGLXY",
        "outputId": "62818ff7-c17a-4d06-f809-bea8992bc038"
      },
      "execution_count": null,
      "outputs": [
        {
          "output_type": "stream",
          "name": "stdout",
          "text": [
            "현재 10000원이 있습니다\n",
            "사용할 금액 입력>>>5000\n",
            "현재 5000원이 있습니다\n",
            "사용할 금액 입력>>>6000\n",
            "1000원이 부족합니다\n",
            "현재 5000원이 있습니다\n",
            "사용할 금액 입력>>>5000\n",
            "현재 0원이 있습니다\n"
          ]
        }
      ]
    },
    {
      "cell_type": "code",
      "source": [
        "while True:\n",
        "  star = int(input('이번 영화의 평점을 입력하세요>>>'))\n",
        "  if star <= 5 and star >= 0:\n",
        "    print('평점: ', end='')\n",
        "    for n in range(star):\n",
        "      print('★', end='')\n",
        "    break\n",
        "  else:\n",
        "    print('평점은 1~5 사이만 입력할 수 있습니다.')\n",
        "    continue\n",
        "  \n",
        "  "
      ],
      "metadata": {
        "colab": {
          "base_uri": "https://localhost:8080/"
        },
        "id": "SClKfj9aHHQF",
        "outputId": "4b5cbcec-ea20-4b48-a0a6-9b3060339c2e"
      },
      "execution_count": null,
      "outputs": [
        {
          "output_type": "stream",
          "name": "stdout",
          "text": [
            "이번 영화의 평점을 입력하세요>>>7\n",
            "평점은 1~5 사이만 입력할 수 있습니다.\n",
            "이번 영화의 평점을 입력하세요>>>6\n",
            "평점은 1~5 사이만 입력할 수 있습니다.\n",
            "이번 영화의 평점을 입력하세요>>>-1\n",
            "평점은 1~5 사이만 입력할 수 있습니다.\n",
            "이번 영화의 평점을 입력하세요>>>4\n",
            "평점: ★★★★"
          ]
        }
      ]
    },
    {
      "cell_type": "code",
      "source": [
        "PW = 'qwerty'\n",
        "i = 1\n",
        "\n",
        "while True:\n",
        "  Q = input('비밀번호를 입력하세요>>>')\n",
        "\n",
        "  if i>4:\n",
        "    print('비밀번호 입력 횟수를 초과했습니다.')\n",
        "    break\n",
        "  i += 1\n",
        "\n",
        "  if PW == Q:\n",
        "    print('비밀번호를 맞혔습니다.')\n",
        "    break\n",
        "  else:\n",
        "    continue"
      ],
      "metadata": {
        "id": "MUZruPo3Rz_4",
        "colab": {
          "base_uri": "https://localhost:8080/"
        },
        "outputId": "c94e9b3a-3315-4556-a0c9-be6c2a778dba"
      },
      "execution_count": 72,
      "outputs": [
        {
          "output_type": "stream",
          "name": "stdout",
          "text": [
            "비밀번호를 입력하세요>>>qwerty\n",
            "비밀번호를 맞혔습니다.\n"
          ]
        }
      ]
    },
    {
      "cell_type": "code",
      "source": [
        "# 구구단 전체 출력하기\n",
        "for i in range(2, 10):\n",
        "  for j in range(1, 10):\n",
        "    print(f'{i}x{j}={i * j}')\n",
        "  print('\\n')"
      ],
      "metadata": {
        "colab": {
          "base_uri": "https://localhost:8080/"
        },
        "id": "GbjXFWgKUWn6",
        "outputId": "078171f9-17b9-4b41-92cc-7e1e63498c89"
      },
      "execution_count": 79,
      "outputs": [
        {
          "output_type": "stream",
          "name": "stdout",
          "text": [
            "2x1=2\n",
            "2x2=4\n",
            "2x3=6\n",
            "2x4=8\n",
            "2x5=10\n",
            "2x6=12\n",
            "2x7=14\n",
            "2x8=16\n",
            "2x9=18\n",
            "\n",
            "\n",
            "3x1=3\n",
            "3x2=6\n",
            "3x3=9\n",
            "3x4=12\n",
            "3x5=15\n",
            "3x6=18\n",
            "3x7=21\n",
            "3x8=24\n",
            "3x9=27\n",
            "\n",
            "\n",
            "4x1=4\n",
            "4x2=8\n",
            "4x3=12\n",
            "4x4=16\n",
            "4x5=20\n",
            "4x6=24\n",
            "4x7=28\n",
            "4x8=32\n",
            "4x9=36\n",
            "\n",
            "\n",
            "5x1=5\n",
            "5x2=10\n",
            "5x3=15\n",
            "5x4=20\n",
            "5x5=25\n",
            "5x6=30\n",
            "5x7=35\n",
            "5x8=40\n",
            "5x9=45\n",
            "\n",
            "\n",
            "6x1=6\n",
            "6x2=12\n",
            "6x3=18\n",
            "6x4=24\n",
            "6x5=30\n",
            "6x6=36\n",
            "6x7=42\n",
            "6x8=48\n",
            "6x9=54\n",
            "\n",
            "\n",
            "7x1=7\n",
            "7x2=14\n",
            "7x3=21\n",
            "7x4=28\n",
            "7x5=35\n",
            "7x6=42\n",
            "7x7=49\n",
            "7x8=56\n",
            "7x9=63\n",
            "\n",
            "\n",
            "8x1=8\n",
            "8x2=16\n",
            "8x3=24\n",
            "8x4=32\n",
            "8x5=40\n",
            "8x6=48\n",
            "8x7=56\n",
            "8x8=64\n",
            "8x9=72\n",
            "\n",
            "\n",
            "9x1=9\n",
            "9x2=18\n",
            "9x3=27\n",
            "9x4=36\n",
            "9x5=45\n",
            "9x6=54\n",
            "9x7=63\n",
            "9x8=72\n",
            "9x9=81\n",
            "\n",
            "\n"
          ]
        }
      ]
    },
    {
      "cell_type": "code",
      "source": [
        "# 구구단 홀수단 출력하기\n",
        "for i in range(2, 10):\n",
        "  if i % 2 == 0:\n",
        "    continue\n",
        "  for j in range(1, 10):\n",
        "    print(f'{i}x{j}={i * j}')\n",
        "  print('\\n')"
      ],
      "metadata": {
        "colab": {
          "base_uri": "https://localhost:8080/"
        },
        "id": "VqrJbuzXXACF",
        "outputId": "1376bfaf-fc72-49fc-e935-d8fcabf720f5"
      },
      "execution_count": 81,
      "outputs": [
        {
          "output_type": "stream",
          "name": "stdout",
          "text": [
            "3x1=3\n",
            "3x2=6\n",
            "3x3=9\n",
            "3x4=12\n",
            "3x5=15\n",
            "3x6=18\n",
            "3x7=21\n",
            "3x8=24\n",
            "3x9=27\n",
            "\n",
            "\n",
            "5x1=5\n",
            "5x2=10\n",
            "5x3=15\n",
            "5x4=20\n",
            "5x5=25\n",
            "5x6=30\n",
            "5x7=35\n",
            "5x8=40\n",
            "5x9=45\n",
            "\n",
            "\n",
            "7x1=7\n",
            "7x2=14\n",
            "7x3=21\n",
            "7x4=28\n",
            "7x5=35\n",
            "7x6=42\n",
            "7x7=49\n",
            "7x8=56\n",
            "7x9=63\n",
            "\n",
            "\n",
            "9x1=9\n",
            "9x2=18\n",
            "9x3=27\n",
            "9x4=36\n",
            "9x5=45\n",
            "9x6=54\n",
            "9x7=63\n",
            "9x8=72\n",
            "9x9=81\n",
            "\n",
            "\n"
          ]
        }
      ]
    },
    {
      "cell_type": "code",
      "source": [
        "# 각 단 까지만 출력\n",
        "for i in range(2, 10):\n",
        "  if i % 2 == 0:\n",
        "    continue\n",
        "  else:\n",
        "    for j in range(1, 10):\n",
        "      if j > i:\n",
        "        break\n",
        "      print(f'{i}x{j}={i*j}')\n",
        "  print('\\n')"
      ],
      "metadata": {
        "colab": {
          "base_uri": "https://localhost:8080/"
        },
        "id": "eP3UXe-pXHDT",
        "outputId": "1ca49544-a38a-4267-c2a5-05d01c4a396f"
      },
      "execution_count": 86,
      "outputs": [
        {
          "output_type": "stream",
          "name": "stdout",
          "text": [
            "3x1=3\n",
            "3x2=6\n",
            "3x3=9\n",
            "\n",
            "\n",
            "5x1=5\n",
            "5x2=10\n",
            "5x3=15\n",
            "5x4=20\n",
            "5x5=25\n",
            "\n",
            "\n",
            "7x1=7\n",
            "7x2=14\n",
            "7x3=21\n",
            "7x4=28\n",
            "7x5=35\n",
            "7x6=42\n",
            "7x7=49\n",
            "\n",
            "\n",
            "9x1=9\n",
            "9x2=18\n",
            "9x3=27\n",
            "9x4=36\n",
            "9x5=45\n",
            "9x6=54\n",
            "9x7=63\n",
            "9x8=72\n",
            "9x9=81\n",
            "\n",
            "\n"
          ]
        }
      ]
    }
  ]
}