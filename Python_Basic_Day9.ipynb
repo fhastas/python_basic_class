{
  "nbformat": 4,
  "nbformat_minor": 0,
  "metadata": {
    "colab": {
      "name": "Python Basic Day9.ipynb",
      "provenance": [],
      "authorship_tag": "ABX9TyPhoaUPzQpCQmMVr75cX7Cn",
      "include_colab_link": true
    },
    "kernelspec": {
      "name": "python3",
      "display_name": "Python 3"
    },
    "language_info": {
      "name": "python"
    }
  },
  "cells": [
    {
      "cell_type": "markdown",
      "metadata": {
        "id": "view-in-github",
        "colab_type": "text"
      },
      "source": [
        "<a href=\"https://colab.research.google.com/github/fhastas/python_basic_class/blob/main/Python_Basic_Day9.ipynb\" target=\"_parent\"><img src=\"https://colab.research.google.com/assets/colab-badge.svg\" alt=\"Open In Colab\"/></a>"
      ]
    },
    {
      "cell_type": "code",
      "execution_count": null,
      "metadata": {
        "id": "OTTDo5IlI8OZ"
      },
      "outputs": [],
      "source": [
        "# C언어에는 클래스가 없다 -> 클래스가 필수는 아니다"
      ]
    },
    {
      "cell_type": "code",
      "source": [
        "result1 = 0\n",
        "\n",
        "def add1(num):\n",
        "  global result1\n",
        "  result1 += num\n",
        "  return result1\n",
        "\n",
        "result2 = 0\n",
        "\n",
        "def add2(num):\n",
        "  global result2\n",
        "  result2 += num\n",
        "  return result2\n",
        "\n",
        "print(add1(3))\n",
        "print(add1(4))\n",
        "\n",
        "print(add2(2))\n",
        "print(add2(5))"
      ],
      "metadata": {
        "colab": {
          "base_uri": "https://localhost:8080/"
        },
        "id": "X3qv1yVYJI2e",
        "outputId": "c60ad58d-7a30-4dfc-fe41-1b66a227380a"
      },
      "execution_count": 3,
      "outputs": [
        {
          "output_type": "stream",
          "name": "stdout",
          "text": [
            "3\n",
            "7\n",
            "2\n",
            "7\n"
          ]
        }
      ]
    },
    {
      "cell_type": "code",
      "source": [
        "print(add1(3))\n",
        "print(add2(5))"
      ],
      "metadata": {
        "colab": {
          "base_uri": "https://localhost:8080/"
        },
        "id": "b4GzR_ffJ1q7",
        "outputId": "a39484fc-61c9-47e6-c078-372622ab151c"
      },
      "execution_count": 4,
      "outputs": [
        {
          "output_type": "stream",
          "name": "stdout",
          "text": [
            "10\n",
            "12\n"
          ]
        }
      ]
    },
    {
      "cell_type": "code",
      "source": [
        "class Calculator:\n",
        "  def __init__(self):     # __init__ 생성자는 객체를 생성할 때 자동으로 호출\n",
        "    self.result = 0\n",
        "  def add(self, num):     # self는 호출한 그 객체를 말한다.\n",
        "    self.result += num\n",
        "    return self.result\n",
        "\n",
        "cal1 = Calculator()\n",
        "cal2 = Calculator()\n"
      ],
      "metadata": {
        "id": "GRsF0cGyJ5MV"
      },
      "execution_count": 1,
      "outputs": []
    },
    {
      "cell_type": "code",
      "source": [
        "cal1.add(5)"
      ],
      "metadata": {
        "colab": {
          "base_uri": "https://localhost:8080/"
        },
        "id": "M4487KcYLPpP",
        "outputId": "7ce30e9a-066e-43b1-dfbb-b80d34b017a3"
      },
      "execution_count": 4,
      "outputs": [
        {
          "output_type": "execute_result",
          "data": {
            "text/plain": [
              "10"
            ]
          },
          "metadata": {},
          "execution_count": 4
        }
      ]
    },
    {
      "cell_type": "code",
      "source": [
        "cal2.add(3)"
      ],
      "metadata": {
        "colab": {
          "base_uri": "https://localhost:8080/"
        },
        "id": "LlatCbFkMBpo",
        "outputId": "c1a7a3f4-795d-4815-d679-657d20b50c75"
      },
      "execution_count": 5,
      "outputs": [
        {
          "output_type": "execute_result",
          "data": {
            "text/plain": [
              "6"
            ]
          },
          "metadata": {},
          "execution_count": 5
        }
      ]
    },
    {
      "cell_type": "code",
      "source": [
        "class FourCal:\n",
        "  def setdata(self, first, second):   # self = a(객체의 이름), fisrt = 4, second = 2\n",
        "    self.first = first\n",
        "    self.second = second"
      ],
      "metadata": {
        "id": "Isqe24_hODag"
      },
      "execution_count": 6,
      "outputs": []
    },
    {
      "cell_type": "code",
      "source": [
        "a = FourCal()\n",
        "b = FourCal()"
      ],
      "metadata": {
        "id": "qOjSl3UHORp4"
      },
      "execution_count": 7,
      "outputs": []
    },
    {
      "cell_type": "code",
      "source": [
        "a.setdata(4,2)\n",
        "b.setdata(3,5)"
      ],
      "metadata": {
        "id": "4r5cBaToOTze"
      },
      "execution_count": 8,
      "outputs": []
    },
    {
      "cell_type": "code",
      "source": [
        "print(a.first)"
      ],
      "metadata": {
        "colab": {
          "base_uri": "https://localhost:8080/"
        },
        "id": "Lywxht-COYzZ",
        "outputId": "e80fe9ac-4510-47d6-8315-d45abff0dbca"
      },
      "execution_count": 9,
      "outputs": [
        {
          "output_type": "stream",
          "name": "stdout",
          "text": [
            "4\n"
          ]
        }
      ]
    },
    {
      "cell_type": "code",
      "source": [
        "class FourCal:\n",
        "  def setdata(self, first, second):   # self = a(객체의 이름), fisrt = 4, second = 2\n",
        "    self.first = first\n",
        "    self.second = second\n",
        "\n",
        "  def add(self):\n",
        "    result = self.first + self.second\n",
        "    return result"
      ],
      "metadata": {
        "id": "QFxO_XqTPdFQ"
      },
      "execution_count": 29,
      "outputs": []
    },
    {
      "cell_type": "code",
      "source": [
        "a = FourCal()\n",
        "a.setdata(4,2)\n",
        "print(a.first)\n",
        "print(a.second)"
      ],
      "metadata": {
        "colab": {
          "base_uri": "https://localhost:8080/"
        },
        "id": "KeRTgw_EP8ei",
        "outputId": "ba5f0848-e98a-479d-ed78-0fe8ef88f578"
      },
      "execution_count": 13,
      "outputs": [
        {
          "output_type": "stream",
          "name": "stdout",
          "text": [
            "4\n",
            "2\n"
          ]
        }
      ]
    },
    {
      "cell_type": "code",
      "source": [
        "print(a.add())"
      ],
      "metadata": {
        "colab": {
          "base_uri": "https://localhost:8080/"
        },
        "id": "JA8nuIq-QPdC",
        "outputId": "45cc6604-6059-4d33-d1c8-28f0a56a3935"
      },
      "execution_count": 15,
      "outputs": [
        {
          "output_type": "stream",
          "name": "stdout",
          "text": [
            "6\n"
          ]
        }
      ]
    },
    {
      "cell_type": "code",
      "source": [
        "b = FourCal()\n",
        "b.setdata(3,5)\n",
        "print(b.first)\n",
        "print(b.second)\n",
        "print(b.add())"
      ],
      "metadata": {
        "colab": {
          "base_uri": "https://localhost:8080/"
        },
        "id": "Rv4JFC83Qxkm",
        "outputId": "26e4f009-7c8f-49f6-91a7-cee70e147b29"
      },
      "execution_count": 18,
      "outputs": [
        {
          "output_type": "stream",
          "name": "stdout",
          "text": [
            "3\n",
            "5\n",
            "8\n"
          ]
        }
      ]
    },
    {
      "cell_type": "code",
      "source": [
        "class FourCal:\n",
        "  def __init__(self, first, second):  # __init__ 생성자는 객체를 생성할 때 자동으로 호출\n",
        "    self.first = first\n",
        "    self.second = second\n",
        "\n",
        "  def setdata(self, first, second):   # self = a(객체의 이름), fisrt = 4, second = 2\n",
        "    self.first = first\n",
        "    self.second = second\n",
        "\n",
        "  def add(self):\n",
        "    result = self.first + self.second\n",
        "    return result\n",
        "\n",
        "  def mul(self):\n",
        "    result = self.first * self.second\n",
        "    return result\n",
        "\n",
        "  def sub(self):\n",
        "    result = self.first - self.second\n",
        "    return result\n",
        "\n",
        "  def div(self):\n",
        "    result = self.first / self.second\n",
        "    return result"
      ],
      "metadata": {
        "id": "qQQLxXFPRXCf"
      },
      "execution_count": 43,
      "outputs": []
    },
    {
      "cell_type": "code",
      "source": [
        "c = FourCal()\n",
        "c.setdata(1,2)\n",
        "print(c.add())\n",
        "print(c.mul())\n",
        "print(c.sub())\n",
        "print(c.div())"
      ],
      "metadata": {
        "colab": {
          "base_uri": "https://localhost:8080/"
        },
        "id": "PIAugLfOR9LR",
        "outputId": "6b733e00-eeb7-4055-8a8f-77861cd38618"
      },
      "execution_count": 31,
      "outputs": [
        {
          "output_type": "stream",
          "name": "stdout",
          "text": [
            "3\n",
            "2\n",
            "-1\n",
            "0.5\n"
          ]
        }
      ]
    },
    {
      "cell_type": "code",
      "source": [
        "# 상속 inheritance\n",
        "# 어떤 클래스를 만들 때 다른 클래스의 기능을 물려받을 수 있는 기능\n",
        "# 보통 상속은 기존 클래스를 변경하지 않고 기능을 추가하거나\n",
        "# "
      ],
      "metadata": {
        "id": "EvIWhExnZDm0"
      },
      "execution_count": 24,
      "outputs": []
    },
    {
      "cell_type": "code",
      "source": [
        "class MoreFourCal(FourCal):\n",
        "  def pow(self):\n",
        "    result = self.first ** self.second\n",
        "    return result\n",
        "\n",
        "e = MoreFourCal(3, 2)\n",
        "e.add()"
      ],
      "metadata": {
        "colab": {
          "base_uri": "https://localhost:8080/"
        },
        "id": "1zQL-9VwZoQc",
        "outputId": "d3d16060-f1e1-40f9-b335-58e213f62557"
      },
      "execution_count": 44,
      "outputs": [
        {
          "output_type": "execute_result",
          "data": {
            "text/plain": [
              "5"
            ]
          },
          "metadata": {},
          "execution_count": 44
        }
      ]
    },
    {
      "cell_type": "code",
      "source": [
        "print(e.add())\n",
        "print(e.pow())"
      ],
      "metadata": {
        "colab": {
          "base_uri": "https://localhost:8080/"
        },
        "id": "vs3vpj4dZyNJ",
        "outputId": "c85864bc-cec2-45cc-de47-5ff2e02e43d3"
      },
      "execution_count": 34,
      "outputs": [
        {
          "output_type": "stream",
          "name": "stdout",
          "text": [
            "5\n",
            "9\n"
          ]
        }
      ]
    },
    {
      "cell_type": "code",
      "source": [
        "# 매서드 오버라이딩 mathod overriding\n",
        "\n",
        "a = FourCal(4, 0)\n",
        "a.div()"
      ],
      "metadata": {
        "colab": {
          "base_uri": "https://localhost:8080/",
          "height": 321
        },
        "id": "9xnpQ-NjbWFD",
        "outputId": "cf292384-7af8-421d-f4ed-3a8da36d9f3e"
      },
      "execution_count": 45,
      "outputs": [
        {
          "output_type": "error",
          "ename": "ZeroDivisionError",
          "evalue": "ignored",
          "traceback": [
            "\u001b[0;31m---------------------------------------------------------------------------\u001b[0m",
            "\u001b[0;31mZeroDivisionError\u001b[0m                         Traceback (most recent call last)",
            "\u001b[0;32m<ipython-input-45-f9b9578c0cee>\u001b[0m in \u001b[0;36m<module>\u001b[0;34m()\u001b[0m\n\u001b[1;32m      2\u001b[0m \u001b[0;34m\u001b[0m\u001b[0m\n\u001b[1;32m      3\u001b[0m \u001b[0ma\u001b[0m \u001b[0;34m=\u001b[0m \u001b[0mFourCal\u001b[0m\u001b[0;34m(\u001b[0m\u001b[0;36m4\u001b[0m\u001b[0;34m,\u001b[0m \u001b[0;36m0\u001b[0m\u001b[0;34m)\u001b[0m\u001b[0;34m\u001b[0m\u001b[0;34m\u001b[0m\u001b[0m\n\u001b[0;32m----> 4\u001b[0;31m \u001b[0ma\u001b[0m\u001b[0;34m.\u001b[0m\u001b[0mdiv\u001b[0m\u001b[0;34m(\u001b[0m\u001b[0;34m)\u001b[0m\u001b[0;34m\u001b[0m\u001b[0;34m\u001b[0m\u001b[0m\n\u001b[0m",
            "\u001b[0;32m<ipython-input-43-4db561b1157e>\u001b[0m in \u001b[0;36mdiv\u001b[0;34m(self)\u001b[0m\n\u001b[1;32m     21\u001b[0m \u001b[0;34m\u001b[0m\u001b[0m\n\u001b[1;32m     22\u001b[0m   \u001b[0;32mdef\u001b[0m \u001b[0mdiv\u001b[0m\u001b[0;34m(\u001b[0m\u001b[0mself\u001b[0m\u001b[0;34m)\u001b[0m\u001b[0;34m:\u001b[0m\u001b[0;34m\u001b[0m\u001b[0;34m\u001b[0m\u001b[0m\n\u001b[0;32m---> 23\u001b[0;31m     \u001b[0mresult\u001b[0m \u001b[0;34m=\u001b[0m \u001b[0mself\u001b[0m\u001b[0;34m.\u001b[0m\u001b[0mfirst\u001b[0m \u001b[0;34m/\u001b[0m \u001b[0mself\u001b[0m\u001b[0;34m.\u001b[0m\u001b[0msecond\u001b[0m\u001b[0;34m\u001b[0m\u001b[0;34m\u001b[0m\u001b[0m\n\u001b[0m\u001b[1;32m     24\u001b[0m     \u001b[0;32mreturn\u001b[0m \u001b[0mresult\u001b[0m\u001b[0;34m\u001b[0m\u001b[0;34m\u001b[0m\u001b[0m\n",
            "\u001b[0;31mZeroDivisionError\u001b[0m: division by zero"
          ]
        }
      ]
    },
    {
      "cell_type": "code",
      "source": [
        "class SafeFourCal(FourCal):\n",
        "  def div(self):\n",
        "    if self.second == 0:\n",
        "      return 0\n",
        "    else:\n",
        "      return self.first / self.second\n",
        "\n",
        "f = SafeFourCal(4, 0)\n",
        "f.div()"
      ],
      "metadata": {
        "colab": {
          "base_uri": "https://localhost:8080/"
        },
        "id": "Ajpbp5yacBhF",
        "outputId": "4b14dfe5-2c71-44c6-a6e2-02e615030644"
      },
      "execution_count": 46,
      "outputs": [
        {
          "output_type": "execute_result",
          "data": {
            "text/plain": [
              "0"
            ]
          },
          "metadata": {},
          "execution_count": 46
        }
      ]
    },
    {
      "cell_type": "code",
      "source": [
        "# 클래스 변수 \n",
        "\n",
        "# 객체변수는 다른 객체들에 영향을 받지 않고 독립적으로 그 값을 유지한다는 것이 중요하다\n",
        "\n",
        "# 클래스 변수는 객체 생성 없이도 사용할 수 있다.\n",
        "\n",
        "# 실무에서는 클래스 변수보다는 객체 변수를 사용하는 비율이 훨씬 높다\n",
        "\n",
        "class Family:\n",
        "  lastname = '김' # 클래스 변수 선언\n",
        "\n",
        "Family.lastname"
      ],
      "metadata": {
        "colab": {
          "base_uri": "https://localhost:8080/",
          "height": 35
        },
        "id": "wXITaFv3dC3_",
        "outputId": "c7af6c75-722e-4c47-915a-54e2c5fc3b75"
      },
      "execution_count": 48,
      "outputs": [
        {
          "output_type": "execute_result",
          "data": {
            "application/vnd.google.colaboratory.intrinsic+json": {
              "type": "string"
            },
            "text/plain": [
              "'김'"
            ]
          },
          "metadata": {},
          "execution_count": 48
        }
      ]
    },
    {
      "cell_type": "code",
      "source": [
        "a = Family()\n",
        "b = Family()\n",
        "\n",
        "print(a.lastname)\n",
        "print(b.lastname)"
      ],
      "metadata": {
        "colab": {
          "base_uri": "https://localhost:8080/"
        },
        "id": "mWodrBfleVsT",
        "outputId": "879364a6-822f-49e6-a47f-039de5ac3ed7"
      },
      "execution_count": 49,
      "outputs": [
        {
          "output_type": "stream",
          "name": "stdout",
          "text": [
            "김\n",
            "김\n"
          ]
        }
      ]
    },
    {
      "cell_type": "code",
      "source": [
        "Family.lastname = '박'"
      ],
      "metadata": {
        "id": "u5B2oDzXeeih"
      },
      "execution_count": 50,
      "outputs": []
    },
    {
      "cell_type": "code",
      "source": [
        "print(a.lastname)\n",
        "print(b.lastname)"
      ],
      "metadata": {
        "colab": {
          "base_uri": "https://localhost:8080/"
        },
        "id": "T6hgZcm1etzO",
        "outputId": "d62fd1ea-528c-4f20-db2e-2b8ecf056f1a"
      },
      "execution_count": 51,
      "outputs": [
        {
          "output_type": "stream",
          "name": "stdout",
          "text": [
            "박\n",
            "박\n"
          ]
        }
      ]
    },
    {
      "cell_type": "code",
      "source": [
        "class Book:\n",
        "  def set_info(self, bN, bA):\n",
        "    global book_list\n",
        "    self.bN = bN\n",
        "    self.bA = bA\n",
        "  def print_info(self):\n",
        "    print(f'책 제목: {self.bN}\\n책 저자: {self.bA}')\n",
        "  \n",
        "book1 = Book()\n",
        "book2 = Book()\n",
        "\n",
        "book1.set_info('파이썬', '민경태')\n",
        "book2.set_info('어린왕자', '생택쥐페리')\n",
        "\n",
        "book1.print_info()\n",
        "book2.print_info()"
      ],
      "metadata": {
        "colab": {
          "base_uri": "https://localhost:8080/"
        },
        "id": "KFVbqVe3evHJ",
        "outputId": "0b8269c8-dfeb-49f8-f808-98f6c6fc7800"
      },
      "execution_count": 52,
      "outputs": [
        {
          "output_type": "stream",
          "name": "stdout",
          "text": [
            "책 제목: 파이썬\n",
            "책 저자: 민경태\n",
            "책 제목: 어린왕자\n",
            "책 저자: 생택쥐페리\n"
          ]
        }
      ]
    },
    {
      "cell_type": "code",
      "source": [
        "# 예외 처리 Exception\n",
        "\n",
        "try:\n",
        "  a = int(input('제수를 입력하세요>>>'))\n",
        "  b = int(input('비제수를 입력하세요>>>'))\n",
        "  print(f'{a}/{b}={a/b}')\n",
        "except:\n",
        "  print('0으로 나누는 것은 불가능합니다.')"
      ],
      "metadata": {
        "colab": {
          "base_uri": "https://localhost:8080/"
        },
        "id": "Q0r8kfTalheU",
        "outputId": "8baa7399-0822-41a1-a4c5-ecb89947ff5a"
      },
      "execution_count": 56,
      "outputs": [
        {
          "output_type": "stream",
          "name": "stdout",
          "text": [
            "제수를 입력하세요>>>10\n",
            "비제수를 입력하세요>>>0\n",
            "0으로 나누는 것은 불가능합니다.\n"
          ]
        }
      ]
    },
    {
      "cell_type": "code",
      "source": [
        "try:\n",
        "  a = int(input('제수를 입력하세요>>>'))\n",
        "  b = int(input('비제수를 입력하세요>>>'))\n",
        "  print(f'{a}/{b}={a/b}')\n",
        "except ZeroDivisionError:\n",
        "  print('0으로 나누는 것은 불가능합니다.')\n",
        "except ValueError:\n",
        "  print('정수만 입력할 수 있습니다.')\n",
        "except Exception:\n",
        "  print('알 수 없는 예외가 발생했습니다.')"
      ],
      "metadata": {
        "id": "qH3XDo2BnziH"
      },
      "execution_count": null,
      "outputs": []
    },
    {
      "cell_type": "code",
      "source": [
        "a = [10,20,30,40,50]\n",
        "\n",
        "try:\n",
        "  a[10]\n",
        "except IndexError as e:\n",
        "  print(e)"
      ],
      "metadata": {
        "colab": {
          "base_uri": "https://localhost:8080/"
        },
        "id": "Mdgyq2k5opTq",
        "outputId": "c6a22712-86c4-434d-8980-ad10fb4032d6"
      },
      "execution_count": 57,
      "outputs": [
        {
          "output_type": "stream",
          "name": "stdout",
          "text": [
            "list index out of range\n"
          ]
        }
      ]
    },
    {
      "cell_type": "code",
      "source": [
        "try:\n",
        "  a = int(input('제수를 입력하세요>>>'))\n",
        "  b = int(input('비제수를 입력하세요>>>'))\n",
        "  result = a/b\n",
        "\n",
        "except ZeroDivisionError:\n",
        "  print('0으로 나누는 것은 불가능합니다.')\n",
        "except ValueError:\n",
        "  print('정수만 입력할 수 있습니다.')\n",
        "except Exception:\n",
        "  print('알 수 없는 예외가 발생했습니다.')\n",
        "\n",
        "else:       # 예외가 발생하지 않았을 경우 접근\n",
        "  print(f'{a}/{b}={result}')\n",
        "finally:    # 예외 발생 여부와는 상관없이 항상 마지막에 접근\n",
        "  print('프로그램을 종료합니다.')"
      ],
      "metadata": {
        "id": "oYej3MUZpUpC"
      },
      "execution_count": null,
      "outputs": []
    },
    {
      "cell_type": "code",
      "source": [
        "# 강제 예외 발생\n",
        "\n",
        "try:\n",
        "  raise Exception('강제 예외 발생')\n",
        "except Exception as e:\n",
        "  print('발생한 예외 메세지는 다음과 같습니다.')\n",
        "  print(e)"
      ],
      "metadata": {
        "colab": {
          "base_uri": "https://localhost:8080/"
        },
        "id": "kW1tTeUmqevd",
        "outputId": "f89b7593-1876-44b5-93b2-a07b8d276aed"
      },
      "execution_count": 58,
      "outputs": [
        {
          "output_type": "stream",
          "name": "stdout",
          "text": [
            "발생한 예외 메세지는 다음과 같습니다.\n",
            "강제 예외 발생\n"
          ]
        }
      ]
    },
    {
      "cell_type": "code",
      "source": [
        "import random\n",
        "\n",
        "class UpDown:\n",
        "  def __init__(self):\n",
        "    self.answer = random.randint(1, 100)\n",
        "    self.conut = 0\n",
        "  def play(self):\n",
        "    while True:\n",
        "      try:\n",
        "        no = self.challenge()\n",
        "      except Exception as e:\n",
        "        print(e)\n",
        "      else:\n",
        "        if self.answer < no:\n",
        "          print('Down')\n",
        "        elif self.answer > no:\n",
        "          print('Up')\n",
        "        else:\n",
        "          print(f'{self.conut}번만의 정답입니다.')\n",
        "          break\n",
        "  def challenge(self):\n",
        "    self.conut += 1\n",
        "    no = int(input('입력(1~100)>>>'))\n",
        "    if no > 100 or no < 0:\n",
        "      raise Exception('1~100 사이만 입력하세요')\n",
        "    return no\n",
        "\n",
        "game = UpDown()\n",
        "game.play()"
      ],
      "metadata": {
        "colab": {
          "base_uri": "https://localhost:8080/"
        },
        "id": "WI_YDKoJrcXk",
        "outputId": "6885d965-1e83-47a2-dbbe-5d81f5108daf"
      },
      "execution_count": 62,
      "outputs": [
        {
          "output_type": "stream",
          "name": "stdout",
          "text": [
            "입력(1~100)>>>50\n",
            "Up\n",
            "입력(1~100)>>>75\n",
            "Up\n",
            "입력(1~100)>>>90\n",
            "Down\n",
            "입력(1~100)>>>80\n",
            "Up\n",
            "입력(1~100)>>>88\n",
            "Up\n",
            "입력(1~100)>>>89\n",
            "6번만의 정답입니다.\n"
          ]
        }
      ]
    }
  ]
}