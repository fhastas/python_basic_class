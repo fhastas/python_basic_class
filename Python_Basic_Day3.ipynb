{
  "nbformat": 4,
  "nbformat_minor": 0,
  "metadata": {
    "colab": {
      "name": "Python Basic Day3.ipynb",
      "provenance": [],
      "authorship_tag": "ABX9TyPUZOH1RieG9tU1dyTUhpWb",
      "include_colab_link": true
    },
    "kernelspec": {
      "name": "python3",
      "display_name": "Python 3"
    },
    "language_info": {
      "name": "python"
    }
  },
  "cells": [
    {
      "cell_type": "markdown",
      "metadata": {
        "id": "view-in-github",
        "colab_type": "text"
      },
      "source": [
        "<a href=\"https://colab.research.google.com/github/fhastas/python_basic_class/blob/main/Python_Basic_Day3.ipynb\" target=\"_parent\"><img src=\"https://colab.research.google.com/assets/colab-badge.svg\" alt=\"Open In Colab\"/></a>"
      ]
    },
    {
      "cell_type": "code",
      "execution_count": null,
      "metadata": {
        "id": "L7qzBv0lSbRG"
      },
      "outputs": [],
      "source": [
        "# list tuple dict set\n",
        "\n",
        "# list   []  indexing/slicing  mutable(del, ins)   [1]\n",
        "\n",
        "# tuple  ()  indexing/slicing  immutable           (1, )\n",
        "\n",
        "# dict   {}    x (unordered)   mutable(del, ins)   {'key':'value'}\n",
        "\n",
        "# set    {}    x (unordered)   mutable(del, ins)   {1,2,3}"
      ]
    },
    {
      "cell_type": "code",
      "source": [
        "# 1\n",
        "no = '31025'\n",
        "a = no[0]   #indexing\n",
        "b = no[1:3] #slicing\n",
        "c = no[3:]  #slicing\n",
        "\n",
        "print(a, '학년', b, '반', c, '번')\n",
        "print(f'{a} 학년 {b} 반 {c} 번')    #f 스트링"
      ],
      "metadata": {
        "colab": {
          "base_uri": "https://localhost:8080/"
        },
        "id": "gwTH25xUUNaG",
        "outputId": "64256858-e08a-4c07-f68e-3c580c4316dc"
      },
      "execution_count": 7,
      "outputs": [
        {
          "output_type": "stream",
          "name": "stdout",
          "text": [
            "3 학년 10 반 25 번\n",
            "3 학년 10 반 25 번\n"
          ]
        }
      ]
    },
    {
      "cell_type": "code",
      "source": [
        "# 2\n",
        "no = '서울2가1234'\n",
        "no4 = no[-4:]\n",
        "#print(no,'의 차량정보 4자리는', no4,'입니다')\n",
        "print(f'{no}의 차량정보 4자리는 {no4}입니다.')"
      ],
      "metadata": {
        "colab": {
          "base_uri": "https://localhost:8080/"
        },
        "id": "l4HvFOQ8YyWy",
        "outputId": "5cc2ee65-842e-40d8-bc31-0c0918148fcc"
      },
      "execution_count": 10,
      "outputs": [
        {
          "output_type": "stream",
          "name": "stdout",
          "text": [
            "서울2가1234의 차량정보 4자리는 1234입니다.\n"
          ]
        }
      ]
    },
    {
      "cell_type": "code",
      "source": [
        "# 3\n",
        "s = 'maple'\n",
        "center = s[len(s) // 2]     # // 나머지를 버리고 몫만 취한다.  % 몫을 버리고 나머지만 취한다.   / 몫과 나머지 모두 가져온다.\n",
        "\n",
        "# print(f'{s}의 가운데 글자는 {s[(len(s)//2):(len(s)//2)+1]}입니다')\n",
        "print(s, '의 가운데 글자는', center, '입니다.')\n",
        "print(f'{s}의 가운데 글자는 {center}입니다.')"
      ],
      "metadata": {
        "colab": {
          "base_uri": "https://localhost:8080/"
        },
        "id": "3ISa23aVaKnY",
        "outputId": "ffe7f39f-b19a-4543-c1ba-0b12ed928de5"
      },
      "execution_count": 18,
      "outputs": [
        {
          "output_type": "stream",
          "name": "stdout",
          "text": [
            "maple의 가운데 글자는 p입니다.\n"
          ]
        }
      ]
    },
    {
      "cell_type": "code",
      "source": [
        "# 4\n",
        "li = [10,20,30,40,50,60,70,80,90,100]\n",
        "li37 = li[2:7]\n",
        "li2 = li37[1]\n",
        "print(f'3번째 요소부터 7번째 요소 = {li37}')\n",
        "# print(f'3번째 요소부터 7번째 요소 중 2번째 요소 = {li2}')\n",
        "print(f'3번째 요소부터 7번째 요소 중 2번째 요소 = {li[2:7][1]}')"
      ],
      "metadata": {
        "colab": {
          "base_uri": "https://localhost:8080/"
        },
        "id": "bADyfDgEfYGR",
        "outputId": "c9c4b70c-f375-4aae-bcab-5c4c3b04a926"
      },
      "execution_count": 27,
      "outputs": [
        {
          "output_type": "stream",
          "name": "stdout",
          "text": [
            "3번째 요소부터 7번째 요소 = [30, 40, 50, 60, 70]\n",
            "3번째 요소부터 7번째 요소 중 2번째 요소 = 40\n"
          ]
        }
      ]
    },
    {
      "cell_type": "code",
      "source": [
        "di = {'금요일':'탕수육', '토요일':'유산슬','일요일':'팔보채'}\n",
        "# print('금요일 :',di['금요일'])\n",
        "# print('토요일 :',di['토요일'])\n",
        "# print('일요일 :',di['일요일'])\n",
        "\n",
        "print('금요일 :',di['금요일'],'\\n토요일 :',di['토요일'],'\\n일요일 :',di['일요일']) "
      ],
      "metadata": {
        "colab": {
          "base_uri": "https://localhost:8080/"
        },
        "id": "cFf6eLnEg03Q",
        "outputId": "a2dfab5e-1660-4e0a-df55-2658a0672faa"
      },
      "execution_count": 32,
      "outputs": [
        {
          "output_type": "stream",
          "name": "stdout",
          "text": [
            "금요일 : 탕수육 \n",
            "토요일 : 유산슬 \n",
            "일요일 : 팔보채\n"
          ]
        }
      ]
    },
    {
      "cell_type": "code",
      "source": [
        "# \\ 따음표의 기능을 무력화시키고 글자로 표현\n",
        "# \\n 줄바꿈 line feed\n",
        "# \\t 탭     tab\n",
        "\n",
        "print('Hello \\'World\\'')\n",
        "print(\"Hello 'World'\")\n",
        "\n",
        "print(\"Hello \\\"World\\\"\")\n",
        "print('Hello \"World\"')\n",
        "\n",
        "print('*\\n**\\n***')\n",
        "\n",
        "print('Hello\\nWorld')\n",
        "\n",
        "print('이름\\t연락처')\n",
        "print('제시카\\t01-123-4567')\n",
        "print('마틴\\t010-1234-5678')"
      ],
      "metadata": {
        "colab": {
          "base_uri": "https://localhost:8080/"
        },
        "id": "wUC5_gCNieG2",
        "outputId": "3ffd474c-43a8-4b14-99dc-dabdab48857d"
      },
      "execution_count": 38,
      "outputs": [
        {
          "output_type": "stream",
          "name": "stdout",
          "text": [
            "Hello 'World'\n",
            "Hello 'World'\n",
            "Hello \"World\"\n",
            "Hello \"World\"\n",
            "*\n",
            "**\n",
            "***\n",
            "Hello\n",
            "World\n",
            "이름\t연락처\n",
            "제시카\t01-123-4567\n",
            "마틴\t010-1234-5678\n"
          ]
        }
      ]
    },
    {
      "cell_type": "code",
      "source": [
        "# print 함수\n",
        "\n",
        "print('재미있는', '파이썬')\n",
        "print('재미있는', '파이썬', sep=',')  # 구분자\n",
        "print('재미있는', '파이썬', sep='/')\n",
        "print('재미있는', '파이썬', sep=':')"
      ],
      "metadata": {
        "colab": {
          "base_uri": "https://localhost:8080/"
        },
        "id": "IySXagV1lPQv",
        "outputId": "5341195c-093f-4aa5-fdde-945234ac8efd"
      },
      "execution_count": 41,
      "outputs": [
        {
          "output_type": "stream",
          "name": "stdout",
          "text": [
            "재미있는 파이썬\n",
            "재미있는,파이썬\n",
            "재미있는/파이썬\n",
            "재미있는:파이썬\n"
          ]
        }
      ]
    },
    {
      "cell_type": "code",
      "source": [
        "print('영화 타이타닉')\n",
        "print('평점', end=':')    \n",
        "print('5점')"
      ],
      "metadata": {
        "colab": {
          "base_uri": "https://localhost:8080/"
        },
        "id": "g3nqzsZQl6We",
        "outputId": "7aa8e1d2-6f15-44e7-8bf8-3bd264241f8d"
      },
      "execution_count": 42,
      "outputs": [
        {
          "output_type": "stream",
          "name": "stdout",
          "text": [
            "영화 타이타닉\n",
            "평점:5점\n"
          ]
        }
      ]
    },
    {
      "cell_type": "code",
      "source": [
        "# % 연산자  (비추)\n",
        "\n",
        "print('%d' % 10)    # 10진수\n",
        "print('%o' % 10)    # 진수\n",
        "print('%x' % 10)    # 16진수\n",
        "\n",
        "print('%f' % 3.14)\n",
        "\n",
        "print('%s' % 'python')\n",
        "print('%s' % 3.14)\n"
      ],
      "metadata": {
        "colab": {
          "base_uri": "https://localhost:8080/"
        },
        "id": "dG_7KzSRpVHB",
        "outputId": "f8a50edc-afdc-45d6-a212-5bb0b0c2c7c3"
      },
      "execution_count": 48,
      "outputs": [
        {
          "output_type": "stream",
          "name": "stdout",
          "text": [
            "10\n",
            "12\n",
            "a\n",
            "3.140000\n",
            "python\n",
            "10\n",
            "10\n",
            "10\n"
          ]
        }
      ]
    },
    {
      "cell_type": "code",
      "source": [
        "print('%d' % 1)\n",
        "print('%5d' % 1)    # 다섯칸을 확보하고 오른쪽부터 출력\n",
        "print('%5d' % 11)"
      ],
      "metadata": {
        "colab": {
          "base_uri": "https://localhost:8080/"
        },
        "id": "8rCccvr7p4WL",
        "outputId": "059f2c83-e020-415c-a83a-95802d0852c8"
      },
      "execution_count": 52,
      "outputs": [
        {
          "output_type": "stream",
          "name": "stdout",
          "text": [
            "1\n",
            "    1\n",
            "   11\n"
          ]
        }
      ]
    },
    {
      "cell_type": "code",
      "source": [
        "print('%-5d' % 1)   # 다섯칸을 확보하고 왼쪽부터 출력\n",
        "print('%-5d' % 11)"
      ],
      "metadata": {
        "colab": {
          "base_uri": "https://localhost:8080/"
        },
        "id": "9mBzVpRTtycx",
        "outputId": "9a101fb2-6bf7-4fec-a432-9359a10e9b65"
      },
      "execution_count": 56,
      "outputs": [
        {
          "output_type": "stream",
          "name": "stdout",
          "text": [
            "1    \n",
            "11   \n"
          ]
        }
      ]
    },
    {
      "cell_type": "code",
      "source": [
        "print('%5.2f' % 3.14)   # 다섯 칸을 확보하고 소수 2자리까지 오른쪽부터 출력\n",
        "print('%5.1f' % 3.14)   # 다섯 칸을 확보하고 소수 1자리까지 오른쪽부터 출력\n",
        "\n",
        "print('%-5.2f' % 3.14)   # 다섯 칸을 확보하고 소수 2자리까지 왼쪽부터 출력\n",
        "print('%-5.1f' % 3.14)   # 다섯 칸을 확보하고 소수 1자리까지 왼쪽부터 출력"
      ],
      "metadata": {
        "colab": {
          "base_uri": "https://localhost:8080/"
        },
        "id": "4M16Fgtsujn1",
        "outputId": "b9a9a4a5-8bf9-402c-ef35-eda90761dbf9"
      },
      "execution_count": 58,
      "outputs": [
        {
          "output_type": "stream",
          "name": "stdout",
          "text": [
            " 3.14\n",
            "  3.1\n",
            "3.14 \n",
            "3.1  \n"
          ]
        }
      ]
    },
    {
      "cell_type": "code",
      "source": [
        "print('%s' % 3.14) "
      ],
      "metadata": {
        "colab": {
          "base_uri": "https://localhost:8080/"
        },
        "id": "uRl6Sjz1uz16",
        "outputId": "45beb3c0-6ad8-40bd-fb16-8a1bf2c3e84d"
      },
      "execution_count": 59,
      "outputs": [
        {
          "output_type": "stream",
          "name": "stdout",
          "text": [
            "3.14\n"
          ]
        }
      ]
    },
    {
      "cell_type": "code",
      "source": [
        "# format() 매서드\n",
        "\n",
        "print('My name is {}'.format('James'))"
      ],
      "metadata": {
        "colab": {
          "base_uri": "https://localhost:8080/"
        },
        "id": "qZNJzvo9wWw2",
        "outputId": "0af017ec-7000-4d70-a46f-c6113a560e47"
      },
      "execution_count": 65,
      "outputs": [
        {
          "output_type": "stream",
          "name": "stdout",
          "text": [
            "My name is James\n"
          ]
        }
      ]
    },
    {
      "cell_type": "code",
      "source": [
        "print('My name is {1}'.format('James', 'Amy'))"
      ],
      "metadata": {
        "colab": {
          "base_uri": "https://localhost:8080/"
        },
        "id": "j63YhZ_vwrQK",
        "outputId": "7607e073-dc85-4776-b7c9-7c27e52898d4"
      },
      "execution_count": 71,
      "outputs": [
        {
          "output_type": "stream",
          "name": "stdout",
          "text": [
            "My name is Amy\n"
          ]
        }
      ]
    },
    {
      "cell_type": "code",
      "source": [
        "print('My name is {name}. I\\'m {age} years old.'.format(name='James', age=20))"
      ],
      "metadata": {
        "colab": {
          "base_uri": "https://localhost:8080/"
        },
        "id": "sATKqeVqwz4d",
        "outputId": "efe0460e-578a-4bc0-86cd-62aca95768ca"
      },
      "execution_count": 72,
      "outputs": [
        {
          "output_type": "stream",
          "name": "stdout",
          "text": [
            "My name is James. I'm 20 years old.\n"
          ]
        }
      ]
    },
    {
      "cell_type": "code",
      "source": [
        "print('My name is {}. I\\'m {} years old.'.format('James', 20))"
      ],
      "metadata": {
        "colab": {
          "base_uri": "https://localhost:8080/"
        },
        "id": "r0KV01t4xEne",
        "outputId": "fd9d5942-8c28-4fbc-fb8c-c002947d78d5"
      },
      "execution_count": 70,
      "outputs": [
        {
          "output_type": "stream",
          "name": "stdout",
          "text": [
            "My name is James. I'm 20 years old.\n"
          ]
        }
      ]
    },
    {
      "cell_type": "code",
      "source": [
        "# f-strings\n",
        "\n",
        "who = 'you'\n",
        "how = 'happy'\n",
        "\n",
        "print(f'{who} make me {how}')"
      ],
      "metadata": {
        "colab": {
          "base_uri": "https://localhost:8080/"
        },
        "id": "VrNSRtjDx9ok",
        "outputId": "a8037cb7-655c-476b-ec49-6120169c7d96"
      },
      "execution_count": 73,
      "outputs": [
        {
          "output_type": "stream",
          "name": "stdout",
          "text": [
            "you make me happy\n"
          ]
        }
      ]
    },
    {
      "cell_type": "code",
      "source": [
        "age = 25\n",
        "print(f'내년엔 {age + 1}살이 됩니다.')"
      ],
      "metadata": {
        "colab": {
          "base_uri": "https://localhost:8080/"
        },
        "id": "D1m5f1owymaX",
        "outputId": "5e13a8cb-e9dd-4ea1-ba2d-ad9bbba4e26e"
      },
      "execution_count": 74,
      "outputs": [
        {
          "output_type": "stream",
          "name": "stdout",
          "text": [
            "내년엔 26살이 됩니다.\n"
          ]
        }
      ]
    },
    {
      "cell_type": "code",
      "source": [
        "# 기본 출력 \n",
        "a = '학생'\n",
        "print(a, '입니다.')\n",
        "\n",
        "# f string 출력 방법\n",
        "print(f'{a} 입니다')\n",
        "\n",
        "# % 연산자 출력 방법\n",
        "print('%s 입니다.' % a)\n",
        "\n",
        "#format() 출력 방법\n",
        "print('{} 입니다.'. format(a))"
      ],
      "metadata": {
        "colab": {
          "base_uri": "https://localhost:8080/"
        },
        "id": "mjz4MF7ovCdt",
        "outputId": "4064dcd3-0b1c-4259-a6f4-23b7148e2dd5"
      },
      "execution_count": 64,
      "outputs": [
        {
          "output_type": "stream",
          "name": "stdout",
          "text": [
            "학생 입니다.\n",
            "학생 입니다\n",
            "학생 입니다.\n",
            "학생 입니다.\n"
          ]
        }
      ]
    },
    {
      "cell_type": "code",
      "source": [
        "# 표준 입력\n",
        "\n",
        "a = input()\n",
        "print(a)"
      ],
      "metadata": {
        "colab": {
          "base_uri": "https://localhost:8080/"
        },
        "id": "QkJekHOQzDSa",
        "outputId": "1ea83788-3227-4170-cdfe-301403b62e5b"
      },
      "execution_count": 75,
      "outputs": [
        {
          "output_type": "stream",
          "name": "stdout",
          "text": [
            "asd\n",
            "asd\n"
          ]
        }
      ]
    },
    {
      "cell_type": "code",
      "source": [
        "n = input('정수를 입력하세요 : ')\n",
        "print(n)"
      ],
      "metadata": {
        "colab": {
          "base_uri": "https://localhost:8080/"
        },
        "id": "qWzbys4HzaOi",
        "outputId": "e3713981-1519-4f8c-e2a1-4bfb681e6cff"
      },
      "execution_count": 77,
      "outputs": [
        {
          "output_type": "stream",
          "name": "stdout",
          "text": [
            "정수를 입력하세요 : 123123\n",
            "123123\n"
          ]
        }
      ]
    },
    {
      "cell_type": "code",
      "source": [
        "name = input('이름을 입력하세요>>')\n",
        "age = input('나이를 입력하세요>>')\n",
        "\n",
        "print('입력된 이름은', name, '입니다.')\n",
        "print(f'입력된 이름은 {name}입니다.')\n",
        "print('입력된 이름은 %s입니다.' % name)\n",
        "print('입력된 이름은 {}입니다'.format(name))\n",
        "\n",
        "print('입력된 나이는', age, '살 입니다')\n",
        "print(f'입력된 나이는 {age}살 입니다')\n",
        "print('입력된 나이는 %s살 입니다' % age)\n",
        "print('입력된 나이는 {}살 입니다'.format(age))"
      ],
      "metadata": {
        "colab": {
          "base_uri": "https://localhost:8080/"
        },
        "id": "anyo2DtLzw5K",
        "outputId": "9bb4709b-cf4e-4615-b765-7aab4008bebe"
      },
      "execution_count": 81,
      "outputs": [
        {
          "output_type": "stream",
          "name": "stdout",
          "text": [
            "이름을 입력하세요>>홍길동\n",
            "나이를 입력하세요>>30\n",
            "입력된 이름은 홍길동 입니다.\n",
            "입력된 이름은 홍길동입니다.\n",
            "입력된 이름은 홍길동입니다.\n",
            "입력된 이름은 홍길동입니다\n",
            "입력된 나이는 30 살 입니다\n",
            "입력된 나이는 30살 입니다\n",
            "입력된 나이는 30살 입니다\n",
            "입력된 나이는 30살 입니다\n"
          ]
        }
      ]
    }
  ]
}