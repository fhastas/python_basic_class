{
  "nbformat": 4,
  "nbformat_minor": 0,
  "metadata": {
    "colab": {
      "name": "stack&queue.ipynb",
      "provenance": [],
      "authorship_tag": "ABX9TyOdlB77sM24udlsQD2Eyw84",
      "include_colab_link": true
    },
    "kernelspec": {
      "name": "python3",
      "display_name": "Python 3"
    },
    "language_info": {
      "name": "python"
    }
  },
  "cells": [
    {
      "cell_type": "markdown",
      "metadata": {
        "id": "view-in-github",
        "colab_type": "text"
      },
      "source": [
        "<a href=\"https://colab.research.google.com/github/fhastas/python_basic_class/blob/main/stack%26queue.ipynb\" target=\"_parent\"><img src=\"https://colab.research.google.com/assets/colab-badge.svg\" alt=\"Open In Colab\"/></a>"
      ]
    },
    {
      "cell_type": "code",
      "execution_count": 1,
      "metadata": {
        "id": "Oyx3gqtYMZqf"
      },
      "outputs": [],
      "source": [
        "# 알고리즘과 자료구조\n",
        "\n",
        "# 알고리즘: 문제를 해결하기위한 절차\n",
        "# 자료구조: 자료를 저장하고 자료를 꺼내는 방법\n",
        "\n",
        "# 스택: 쌓는다\n",
        "#       LIFO Last in First out 후입선출 "
      ]
    },
    {
      "cell_type": "code",
      "source": [
        "# 리스트를 이용한 스택\n",
        "\n",
        "\n",
        "class ListStack:\n",
        "  def __init__(self):\n",
        "    self.__stack = []\n",
        "\n",
        "  # 스택에 자료 넣기\n",
        "  def push(self, x):\n",
        "    self.__stack.append(x)\n",
        "\n",
        "  # 스택에 자료 삭제\n",
        "  def pop(self):\n",
        "    return self.__stack.pop()\n",
        "\n",
        "  # 스택 탑 원소 알아내기\n",
        "  def top(self):\n",
        "    if self.isEmpty():\n",
        "      return None\n",
        "    else:\n",
        "      return self.__stack[-1]\n",
        "\n",
        "  # 스택이 비었는지 확인\n",
        "  def isEmpty(self):\n",
        "    return len(self.__stack) == 0   #not bool(self.__stack)\n",
        "\n",
        "  # 스택 한 번에 비우기\n",
        "  def popAll(self):\n",
        "    self.__stack = []"
      ],
      "metadata": {
        "id": "xjay6jUOMsi-"
      },
      "execution_count": 19,
      "outputs": []
    },
    {
      "cell_type": "code",
      "source": [
        "st1 = ListStack()\n",
        "\n",
        "st1.push(100)\n",
        "st1.push(200)\n",
        "\n",
        "print(st1.top())\n",
        "\n",
        "print(st1.isEmpty())\n",
        "\n",
        "st1.push(300)\n",
        "\n",
        "print(st1.top())\n",
        "\n",
        "st1.popAll()\n",
        "\n",
        "print(st1.top())\n",
        "print(st1.isEmpty())"
      ],
      "metadata": {
        "colab": {
          "base_uri": "https://localhost:8080/"
        },
        "id": "YHaMRnLGQ0Qx",
        "outputId": "98b3236a-4ebf-4a43-a9ff-1e6a06074ee1"
      },
      "execution_count": 20,
      "outputs": [
        {
          "output_type": "stream",
          "name": "stdout",
          "text": [
            "200\n",
            "False\n",
            "300\n",
            "None\n",
            "True\n"
          ]
        }
      ]
    },
    {
      "cell_type": "code",
      "source": [
        "# 스택을 사용하여 문자열 뒤집기\n",
        "\n",
        "def reverseStack(str):\n",
        "  rev = []\n",
        "  for i in str:\n",
        "    rev.append(i)\n",
        "\n",
        "  while rev:\n",
        "    print(rev.pop(), end=\"\")\n",
        "\n",
        "reverseStack(\"tree\")"
      ],
      "metadata": {
        "colab": {
          "base_uri": "https://localhost:8080/"
        },
        "id": "eg4lNyiJTIMD",
        "outputId": "5bc54e5a-1fc9-4622-bdd5-cf998d89a419"
      },
      "execution_count": 21,
      "outputs": [
        {
          "output_type": "stream",
          "name": "stdout",
          "text": [
            "eert"
          ]
        }
      ]
    },
    {
      "cell_type": "code",
      "source": [
        "# Queue: 줄선다\n",
        "#         FIFO    First in First Out  선입선출\n",
        "\n",
        "def Queue():\n",
        "  queue = []\n",
        "  queue.append(1)\n",
        "  queue.append(2)\n",
        "  queue.append(3)\n",
        "  queue.append(4)\n",
        "  queue.append(5)\n",
        "\n",
        "  print(queue)\n",
        "\n",
        "  while queue:\n",
        "    print(queue.pop(0), end=\" \")\n",
        "\n",
        "Queue()"
      ],
      "metadata": {
        "colab": {
          "base_uri": "https://localhost:8080/"
        },
        "id": "4xVxJshba38w",
        "outputId": "36457dd1-ee12-4ec4-8b5d-a0fb7df2a42c"
      },
      "execution_count": 24,
      "outputs": [
        {
          "output_type": "stream",
          "name": "stdout",
          "text": [
            "[1, 2, 3, 4, 5]\n",
            "1 2 3 4 5 "
          ]
        }
      ]
    },
    {
      "cell_type": "code",
      "source": [
        "# 프린터 프로그램\n",
        "\n",
        "list = []\n",
        "\n",
        "while True:\n",
        "  fname = input('출력한 파일을 입력하세요(0을 누르시면 출력을 시작합니다.)>>')\n",
        "  if fname != '0':\n",
        "    list.append(fname)\n",
        "  else: # 0이 입력되면\n",
        "    print('\\n출력을 시작합니다.')\n",
        "    for n in range(len(list)):\n",
        "      print(f'{n+1}번째 파일을 출력합니다. : {list[n]}')\n",
        "    print('출력을 종료합니다.')\n",
        "    break"
      ],
      "metadata": {
        "colab": {
          "base_uri": "https://localhost:8080/"
        },
        "id": "P0oVo3OQcUU0",
        "outputId": "0bf3fa92-a1d3-46c0-8fda-381fd122d477"
      },
      "execution_count": 29,
      "outputs": [
        {
          "output_type": "stream",
          "name": "stdout",
          "text": [
            "출력한 파일을 입력하세요(0을 누르시면 출력을 시작합니다.)>>0\n",
            "\n",
            "출력을 시작합니다.\n",
            "출력을 종료합니다.\n"
          ]
        }
      ]
    },
    {
      "cell_type": "code",
      "source": [
        "# palindrome  (스택과 큐를 사용)\n",
        "\n",
        "# def palin(str):               (사용 X)\n",
        "#   num = int(len(str)/2)\n",
        "#   i = 0\n",
        "#   while i < num:\n",
        "#     if str[i] != str[-(i+1)]:\n",
        "#       return False\n",
        "#     else:\n",
        "#       i += 1\n",
        "#   return True\n",
        "\n",
        "def palin(str):\n",
        "  qu = []\n",
        "  st = []\n",
        "\n",
        "  for i in str:\n",
        "    qu.append(i.lower())\n",
        "    st.append(i.lower())\n",
        "\n",
        "  while qu:\n",
        "    if qu.pop(0) != st.pop():\n",
        "      return False\n",
        "  return True\n",
        "\n",
        "print(palin('0110011001100110')) # True"
      ],
      "metadata": {
        "colab": {
          "base_uri": "https://localhost:8080/"
        },
        "id": "z-AC1ELOfLCC",
        "outputId": "cabd88ef-00e6-4d81-e6ad-ecf0a6703ce4"
      },
      "execution_count": 52,
      "outputs": [
        {
          "output_type": "stream",
          "name": "stdout",
          "text": [
            "True\n"
          ]
        }
      ]
    }
  ]
}